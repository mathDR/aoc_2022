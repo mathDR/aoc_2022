{
 "cells": [
  {
   "cell_type": "markdown",
   "id": "9aadd583",
   "metadata": {},
   "source": [
    "# Day 13"
   ]
  },
  {
   "cell_type": "code",
   "execution_count": 1,
   "id": "a7dd217e",
   "metadata": {},
   "outputs": [],
   "source": [
    "from ast import literal_eval\n",
    "from typing import Union, Sequence"
   ]
  },
  {
   "cell_type": "markdown",
   "id": "aca7050d",
   "metadata": {},
   "source": [
    "## Part 1"
   ]
  },
  {
   "cell_type": "code",
   "execution_count": 2,
   "id": "8de67a4d",
   "metadata": {
    "code_folding": [
     0
    ]
   },
   "outputs": [],
   "source": [
    "def compare_int(left: int, right: int)->Union[bool,None]:\n",
    "    if left < right:\n",
    "        return True\n",
    "    if left > right:\n",
    "        return False\n",
    "    if left == right:\n",
    "        return None"
   ]
  },
  {
   "cell_type": "code",
   "execution_count": 3,
   "id": "6acfef55",
   "metadata": {
    "code_folding": [
     0,
     4
    ]
   },
   "outputs": [],
   "source": [
    "def compare_list(left: list, right: list)->Union[bool,None]:\n",
    "    l_len = len(left)\n",
    "    r_len = len(right)\n",
    "    i = 0\n",
    "    while True:\n",
    "        # Check if we've reached the end of left or right\n",
    "        if i == l_len and i == r_len:\n",
    "            # lengths of both lists are the same\n",
    "            return None\n",
    "        elif i == l_len:\n",
    "            # We've reached the end of left and left is shorter\n",
    "            return True\n",
    "        elif i == r_len:\n",
    "            # We've reached the end of right and right is shorter\n",
    "            return False\n",
    "\n",
    "        left_item = left[i]\n",
    "        right_item = right[i]\n",
    "\n",
    "        if isinstance(left_item, int) and isinstance(right_item, int):\n",
    "            in_order = compare_int(left_item, right_item)\n",
    "        elif isinstance(left_item, int):\n",
    "            # Convert left item into a list and compare lists\n",
    "            in_order = compare_list([left_item], right_item)\n",
    "        elif isinstance(right_item, int):\n",
    "            in_order = compare_list(left_item, [right_item])\n",
    "        else:  # They are both lists, now compare them\n",
    "            in_order = compare_list(left_item, right_item)\n",
    "\n",
    "        if in_order is not None:\n",
    "            return in_order\n",
    "\n",
    "        i += 1"
   ]
  },
  {
   "cell_type": "code",
   "execution_count": 4,
   "id": "774ef310",
   "metadata": {
    "code_folding": [
     0
    ]
   },
   "outputs": [],
   "source": [
    "def parse_line(line:str)->list[str]:\n",
    "    return [line.rstrip()]"
   ]
  },
  {
   "cell_type": "code",
   "execution_count": 5,
   "id": "aa844388",
   "metadata": {
    "code_folding": [
     0
    ]
   },
   "outputs": [],
   "source": [
    "def create_pairs(data:list[str])->list[Sequence[Union[list,int]]]:\n",
    "    all_pairs = []\n",
    "    pair = []\n",
    "    for l in data:\n",
    "        if l == '':\n",
    "            all_pairs.append(pair)\n",
    "            pair = []\n",
    "        else:\n",
    "            pair.append(literal_eval(l)) # LOL this is a LOT easier with literal_eval!\n",
    "\n",
    "    all_pairs.append(pair)\n",
    "    return all_pairs"
   ]
  },
  {
   "cell_type": "code",
   "execution_count": 6,
   "id": "79b5892f",
   "metadata": {
    "code_folding": [
     0
    ]
   },
   "outputs": [],
   "source": [
    "def evaluate_pairs(pairs:list[Sequence[Union[list,int]]])->int:\n",
    "    ret_sum = 0\n",
    "    for i, pair in enumerate(pairs):\n",
    "        if compare_list(pair[0], pair[1]):\n",
    "            ret_sum += i + 1\n",
    "\n",
    "    return ret_sum"
   ]
  },
  {
   "cell_type": "code",
   "execution_count": 7,
   "id": "d8e633a4",
   "metadata": {},
   "outputs": [],
   "source": [
    "with open('test_day13.txt') as input_text:\n",
    "    data = []\n",
    "    for line in input_text:\n",
    "        data.extend(parse_line(line))\n",
    "    pairs = create_pairs(data)\n",
    "    assert evaluate_pairs(pairs) == 13"
   ]
  },
  {
   "cell_type": "code",
   "execution_count": 8,
   "id": "19917fb1",
   "metadata": {},
   "outputs": [
    {
     "name": "stdout",
     "output_type": "stream",
     "text": [
      "5208\n"
     ]
    }
   ],
   "source": [
    "with open('input_day13.txt') as input_text:\n",
    "    data = []\n",
    "    for line in input_text:\n",
    "        data.extend(parse_line(line))\n",
    "    pairs = create_pairs(data)\n",
    "    print(evaluate_pairs(pairs))"
   ]
  },
  {
   "cell_type": "markdown",
   "id": "f3492725",
   "metadata": {},
   "source": [
    "## Part 2"
   ]
  },
  {
   "cell_type": "code",
   "execution_count": 16,
   "id": "cfb236ff",
   "metadata": {
    "code_folding": [
     0
    ]
   },
   "outputs": [],
   "source": [
    "def my_sorter(packets: list)->None:\n",
    "    '''\n",
    "     Sort the packets in place\n",
    "    '''\n",
    "    num_packets = len(packets)\n",
    "\n",
    "    for i in range(0, num_packets):\n",
    "        for j in range(0, num_packets - i - 1):\n",
    "            in_order = compare_list(packets[j], packets[j+1])\n",
    "            # in_order can be None if the packets are equivalent\n",
    "            if in_order == False:\n",
    "                packets[j], packets[j+1] = packets[j+1], packets[j]\n",
    "    return packets"
   ]
  },
  {
   "cell_type": "code",
   "execution_count": 18,
   "id": "639b5c08",
   "metadata": {},
   "outputs": [],
   "source": [
    "def find_decoder_key(data:list[str])->int:\n",
    "    divider1 = [[2]]\n",
    "    divider2 = [[6]]\n",
    "\n",
    "    packet_list = []\n",
    "    for l in data:\n",
    "        if l == '':\n",
    "            continue\n",
    "        else:\n",
    "            packet_list.append(literal_eval(l))\n",
    "    packet_list.append(divider1)\n",
    "    packet_list.append(divider2)\n",
    "    packet_list = my_sorter(packet_list)\n",
    "    return (packet_list.index(divider1) + 1) * (packet_list.index(divider2) + 1)"
   ]
  },
  {
   "cell_type": "code",
   "execution_count": 19,
   "id": "74410e1f",
   "metadata": {},
   "outputs": [],
   "source": [
    "with open('test_day13.txt') as input_text:\n",
    "    data = []\n",
    "    for line in input_text:\n",
    "        data.extend(parse_line(line))\n",
    "    assert find_decoder_key(data) == 140"
   ]
  },
  {
   "cell_type": "code",
   "execution_count": 20,
   "id": "aff88041",
   "metadata": {},
   "outputs": [
    {
     "name": "stdout",
     "output_type": "stream",
     "text": [
      "25792\n"
     ]
    }
   ],
   "source": [
    "with open('input_day13.txt') as input_text:\n",
    "    data = []\n",
    "    for line in input_text:\n",
    "        data.extend(parse_line(line))\n",
    "    print(find_decoder_key(data))"
   ]
  }
 ],
 "metadata": {
  "kernelspec": {
   "display_name": "Python 3 (ipykernel)",
   "language": "python",
   "name": "python3"
  },
  "language_info": {
   "codemirror_mode": {
    "name": "ipython",
    "version": 3
   },
   "file_extension": ".py",
   "mimetype": "text/x-python",
   "name": "python",
   "nbconvert_exporter": "python",
   "pygments_lexer": "ipython3",
   "version": "3.9.10"
  }
 },
 "nbformat": 4,
 "nbformat_minor": 5
}

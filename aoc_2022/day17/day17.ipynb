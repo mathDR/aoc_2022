{
 "cells": [
  {
   "cell_type": "markdown",
   "id": "9aadd583",
   "metadata": {},
   "source": [
    "# Day 17"
   ]
  },
  {
   "cell_type": "code",
   "execution_count": 13,
   "id": "d4971f73",
   "metadata": {},
   "outputs": [],
   "source": [
    "from itertools import cycle"
   ]
  },
  {
   "cell_type": "markdown",
   "id": "aca7050d",
   "metadata": {},
   "source": [
    "## Part 1"
   ]
  },
  {
   "cell_type": "code",
   "execution_count": 23,
   "id": "424943de",
   "metadata": {},
   "outputs": [],
   "source": [
    "class RockPile:\n",
    " \n",
    "    rock_shapes = {\n",
    "        \"line\": [\n",
    "            \"0011110\",\n",
    "        ],\n",
    "        \"cross\": [\n",
    "            \"0001000\",\n",
    "            \"0011100\",\n",
    "            \"0001000\",\n",
    "        ],\n",
    "        \"elbow\": [\n",
    "            \"0000100\",\n",
    "            \"0000100\",\n",
    "            \"0011100\",\n",
    "        ],\n",
    "        \"column\": [\n",
    "            \"0010000\",\n",
    "            \"0010000\",\n",
    "            \"0010000\",\n",
    "            \"0010000\",\n",
    "        ],\n",
    "        \"square\": [\n",
    "            \"0011000\",\n",
    "            \"0011000\",\n",
    "        ]\n",
    "    }\n",
    " \n",
    "    def __init__(self, wind_directions: str):\n",
    "        self.wind_direction = cycle(wind_directions)\n",
    "        self.rock_shape = cycle(self.rock_shapes)\n",
    "        self.pile: list[int] = []\n",
    " \n",
    "    @property\n",
    "    def height(self) -> int:\n",
    "        return len(self.pile)\n",
    " \n",
    "    def can_shift(self, direction: str, pile_level: int, rock: list[int]) -> bool:\n",
    "        for r in range(len(rock)):\n",
    "            if (\n",
    "                    direction == \">\" and\n",
    "                    ((rock[r] & 1) or (rock[r] >> 1 & self.pile[pile_level + r]))\n",
    "            ) or (\n",
    "                    direction == \"<\" and\n",
    "                    ((rock[r] & 2 ** 6) or (rock[r] << 1 & self.pile[pile_level + r]))\n",
    "            ):\n",
    "                return False\n",
    "        return True\n",
    " \n",
    "    def can_fall(self, pile_level: int, rock: list[int]) -> bool:\n",
    "        for r in range(len(rock)):\n",
    "            if ((pile_level + r >= len(self.pile) - 1) or\n",
    "                    (rock[r] & self.pile[pile_level + r + 1])):\n",
    "                return False\n",
    "        return True\n",
    " \n",
    "    def drop_next(self) -> None:\n",
    "        rock = [int(i, 2) for i in self.rock_shapes[next(self.rock_shape)]]\n",
    "        self.pile = [0] * (3 + len(rock)) + self.pile\n",
    "        for pile_level in range(len(self.pile)):\n",
    "            direction = next(self.wind_direction)\n",
    " \n",
    "            if self.can_shift(direction, pile_level, rock):\n",
    "                for r in range(len(rock)):\n",
    "                    rock[r] = rock[r] >> 1 if direction == \">\" else rock[r] << 1\n",
    " \n",
    "            if not self.can_fall(pile_level, rock):\n",
    "                for r in range(len(rock)):\n",
    "                    self.pile[pile_level + r] = self.pile[pile_level + r] | rock[r]\n",
    "                while self.pile[0] == 0:\n",
    "                    self.pile.pop(0)\n",
    "                return\n",
    " \n",
    "    def dump(self) -> str:\n",
    "        output = \"\"\n",
    "        for r in self.pile:\n",
    "            output += \"|\" + \\\n",
    "                      \"\".join([\"#\" if c == \"1\" else \".\" for c in format(r, \"07b\")]) + \\\n",
    "                      \"|\\n\"\n",
    "        output += \"+-------+\"\n",
    "        return output"
   ]
  },
  {
   "cell_type": "code",
   "execution_count": 29,
   "id": "241d9f2e",
   "metadata": {},
   "outputs": [],
   "source": [
    "def part_1(filename) -> int:\n",
    "    with open(filename) as input_text:\n",
    "        for line in input_text:\n",
    "            winds = line.strip('\\n')\n",
    "\n",
    "    pile = RockPile(winds)\n",
    "    for _ in range(2022):\n",
    "        pile.drop_next()\n",
    "    return pile.height"
   ]
  },
  {
   "cell_type": "code",
   "execution_count": 30,
   "id": "d8e633a4",
   "metadata": {},
   "outputs": [],
   "source": [
    "assert (part_1('test_day17.txt') == 3068)"
   ]
  },
  {
   "cell_type": "code",
   "execution_count": 31,
   "id": "b5e242f3",
   "metadata": {},
   "outputs": [
    {
     "name": "stdout",
     "output_type": "stream",
     "text": [
      "3235\n"
     ]
    }
   ],
   "source": [
    "print(part_1('input_day17.txt'))"
   ]
  },
  {
   "cell_type": "markdown",
   "id": "f3492725",
   "metadata": {},
   "source": [
    "## Part 2"
   ]
  },
  {
   "cell_type": "code",
   "execution_count": 32,
   "id": "a0837294",
   "metadata": {},
   "outputs": [],
   "source": [
    "def find_pattern(data: list[int]) -> tuple[list[int], list[int]]:\n",
    "    for p in range(len(data)):\n",
    "        sd = data[p:]\n",
    "        for r in range(2, len(sd) // 2):\n",
    "            if sd[0:r] == sd[r:2 * r]:\n",
    "                if all([(sd[0:r] == sd[y:y + r]) for y in range(r, len(sd) - r, r)]):\n",
    "                    return data[:p], data[p:p + r]\n",
    "    return [], []"
   ]
  },
  {
   "cell_type": "code",
   "execution_count": 33,
   "id": "44ae96cc",
   "metadata": {},
   "outputs": [],
   "source": [
    "def part_2(filename) -> int:\n",
    "    num_rocks = 1000000000000\n",
    "    sample_size = 10000\n",
    "    \n",
    "    with open(filename) as input_text:\n",
    "        for line in input_text:\n",
    "            winds = line.strip('\\n')\n",
    " \n",
    "    pile = RockPile(winds)\n",
    " \n",
    "    height_deltas = []\n",
    "    for _ in range(sample_size):\n",
    "        prev_height = pile.height\n",
    "        pile.drop_next()\n",
    "        height_deltas.append(pile.height - prev_height)\n",
    " \n",
    "    preamble, repetition = find_pattern(height_deltas)\n",
    "    p_len = len(preamble)\n",
    "    r_len = len(repetition)\n",
    " \n",
    "    return sum(preamble) \\\n",
    "        + sum(repetition) * ((num_rocks - p_len) // r_len) \\\n",
    "        + sum(repetition[:((num_rocks - p_len) % r_len)])"
   ]
  },
  {
   "cell_type": "code",
   "execution_count": 35,
   "id": "c9eb64a9",
   "metadata": {},
   "outputs": [],
   "source": [
    "assert (part_2('test_day17.txt')==1514285714288)"
   ]
  },
  {
   "cell_type": "code",
   "execution_count": 36,
   "id": "4fba15a3",
   "metadata": {},
   "outputs": [
    {
     "name": "stdout",
     "output_type": "stream",
     "text": [
      "1591860465110\n"
     ]
    }
   ],
   "source": [
    "print(part_2('input_day17.txt'))"
   ]
  },
  {
   "cell_type": "code",
   "execution_count": null,
   "id": "761ea931",
   "metadata": {},
   "outputs": [],
   "source": []
  }
 ],
 "metadata": {
  "kernelspec": {
   "display_name": "Python 3 (ipykernel)",
   "language": "python",
   "name": "python3"
  },
  "language_info": {
   "codemirror_mode": {
    "name": "ipython",
    "version": 3
   },
   "file_extension": ".py",
   "mimetype": "text/x-python",
   "name": "python",
   "nbconvert_exporter": "python",
   "pygments_lexer": "ipython3",
   "version": "3.9.10"
  }
 },
 "nbformat": 4,
 "nbformat_minor": 5
}

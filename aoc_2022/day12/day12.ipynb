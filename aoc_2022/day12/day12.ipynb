{
 "cells": [
  {
   "cell_type": "markdown",
   "id": "9aadd583",
   "metadata": {},
   "source": [
    "# Day 12"
   ]
  },
  {
   "cell_type": "markdown",
   "id": "aca7050d",
   "metadata": {},
   "source": [
    "## Part 1"
   ]
  },
  {
   "cell_type": "code",
   "execution_count": 2,
   "id": "42513401",
   "metadata": {},
   "outputs": [
    {
     "name": "stdout",
     "output_type": "stream",
     "text": [
      "Result part1 437.\n",
      "Result part2 430.\n"
     ]
    }
   ],
   "source": [
    "INF = 10000 # 'infinity' is something larger than expected value \n",
    "\n",
    "class Vertex:\n",
    "    def __init__(self):\n",
    "        self._name = '.'\n",
    "        self._neighbors = []\n",
    "        self._dist = INF\n",
    "        self._seen = False\n",
    "\n",
    "def nodeLvl(n):\n",
    "    if n == 'S':\n",
    "        return ord('a')\n",
    "    if n == 'E':\n",
    "        return ord('z')\n",
    "    return ord(n)\n",
    "\n",
    "def make_vertices(g):\n",
    "    width  = len(g[0])\n",
    "    height = len(g)\n",
    "    verts = []\n",
    "    targets = []\n",
    "    source = None\n",
    "    for x in range(width * height): verts.append(Vertex())\n",
    "    for i, r in enumerate(g):\n",
    "        for j, c in enumerate(r):\n",
    "            lvl = nodeLvl(c)\n",
    "            v = verts[(width * i) + j]\n",
    "            v._name = c\n",
    "            if (c == 'S' or c == 'a'): targets.append(v)\n",
    "            elif (c == 'E'): source = v\n",
    "            if (i < (height - 1)) and lvl <= (nodeLvl(g[i+1][j]) + 1):\n",
    "                v._neighbors.append((width * (i + 1)) + j)\n",
    "            if (j < (width - 1)) and lvl <= (nodeLvl(g[i][j+1]) + 1):\n",
    "                v._neighbors.append((width * (i)) + j + 1)        \n",
    "            if i > 0 and lvl <= (nodeLvl(g[i-1][j]) + 1):\n",
    "                v._neighbors.append((width * (i - 1)) + j)\n",
    "            if j > 0 and lvl <= (nodeLvl(g[i][j-1]) + 1):\n",
    "                v._neighbors.append((width * (i)) + j - 1)\n",
    "    return verts, source, targets\n",
    "\n",
    "def pop_min_dist(q):\n",
    "    m = INF\n",
    "    bestIdx = 0\n",
    "    for idx, v in enumerate(q):\n",
    "        if v._dist < m:\n",
    "            m = v._dist\n",
    "            bestIdx = idx\n",
    "    return q.pop(bestIdx)\n",
    "\n",
    "def dijkstra(verts, source):\n",
    "    q = []\n",
    "    for v in verts: q.append(v)\n",
    "    source._dist = 0\n",
    "    \n",
    "    while len(q) > 0:\n",
    "        u = pop_min_dist(q)\n",
    "        u._seen = True\n",
    "        for vi in u._neighbors:\n",
    "            v = verts[vi]\n",
    "            if not v._seen:\n",
    "                alt = u._dist + 1 # Graph distance is always 1\n",
    "                if alt < v._dist:\n",
    "                    v._dist = alt\n",
    "                    v._prev = u\n",
    "# script\n",
    "grid  = []\n",
    "#with open('test_ignored.txt') as f:\n",
    "with open('input_day12.txt') as f:\n",
    "    for line in f:\n",
    "        r = line.strip('\\n')\n",
    "        grid.append([i for i in r])\n",
    "\n",
    "v, s, t = make_vertices(grid)\n",
    "dijkstra(v, s)\n",
    "part1 = t[0]\n",
    "part2 = t[0]\n",
    "for v in t: \n",
    "    if v._dist < part2._dist: part2 = v\n",
    "    if v._name == \"S\": part1 = v\n",
    "print( f\"Result part1 {part1._dist}.\")\n",
    "print( f\"Result part2 {part2._dist}.\")"
   ]
  },
  {
   "cell_type": "markdown",
   "id": "f3492725",
   "metadata": {},
   "source": [
    "## Part 2"
   ]
  }
 ],
 "metadata": {
  "kernelspec": {
   "display_name": "Python 3 (ipykernel)",
   "language": "python",
   "name": "python3"
  },
  "language_info": {
   "codemirror_mode": {
    "name": "ipython",
    "version": 3
   },
   "file_extension": ".py",
   "mimetype": "text/x-python",
   "name": "python",
   "nbconvert_exporter": "python",
   "pygments_lexer": "ipython3",
   "version": "3.9.10"
  }
 },
 "nbformat": 4,
 "nbformat_minor": 5
}

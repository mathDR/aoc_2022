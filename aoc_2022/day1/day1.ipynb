{
 "cells": [
  {
   "cell_type": "markdown",
   "id": "a6f6ba76",
   "metadata": {},
   "source": [
    "# Day 1"
   ]
  },
  {
   "cell_type": "markdown",
   "id": "24ab717a",
   "metadata": {},
   "source": [
    "## Part 1"
   ]
  },
  {
   "cell_type": "code",
   "execution_count": 1,
   "id": "33a90a31",
   "metadata": {},
   "outputs": [],
   "source": [
    "max_elf_index = 0; max_elf_calories = 0\n",
    "\n",
    "with open('test_day1.txt') as input_text:\n",
    "    this_elf_index = 0\n",
    "    this_elf_calories = 0\n",
    "    for line in input_text:\n",
    "        if line == '\\n':\n",
    "            if this_elf_calories >= max_elf_calories:\n",
    "                max_elf_calories = this_elf_calories\n",
    "                max_elf_index = this_elf_index\n",
    "            this_elf_index +=1\n",
    "            this_elf_calories = 0\n",
    "        else:\n",
    "            this_elf_calories += int(line)\n",
    "    # Check last elf\n",
    "    if this_elf_calories >= max_elf_calories:\n",
    "        max_elf_calories = this_elf_calories\n",
    "        max_elf_index = this_elf_index\n",
    "assert max_elf_calories == 24000"
   ]
  },
  {
   "cell_type": "code",
   "execution_count": 2,
   "id": "ceb2462d",
   "metadata": {},
   "outputs": [
    {
     "name": "stdout",
     "output_type": "stream",
     "text": [
      "71506\n"
     ]
    }
   ],
   "source": [
    "max_elf_index = 0; max_elf_calories = 0\n",
    "\n",
    "with open('input_day1.txt') as input_text:\n",
    "    this_elf_index = 0\n",
    "    this_elf_calories = 0\n",
    "    for line in input_text:\n",
    "        if line == '\\n':\n",
    "            if this_elf_calories >= max_elf_calories:\n",
    "                max_elf_calories = this_elf_calories\n",
    "                max_elf_index = this_elf_index\n",
    "            this_elf_index +=1\n",
    "            this_elf_calories = 0\n",
    "        else:\n",
    "            this_elf_calories += int(line)\n",
    "    # Check last elf\n",
    "    if this_elf_calories >= max_elf_calories:\n",
    "        max_elf_calories = this_elf_calories\n",
    "        max_elf_index = this_elf_index\n",
    "print(max_elf_calories)"
   ]
  },
  {
   "cell_type": "markdown",
   "id": "f874312c",
   "metadata": {},
   "source": [
    "## Part 2"
   ]
  },
  {
   "cell_type": "code",
   "execution_count": 3,
   "id": "5eab1219",
   "metadata": {},
   "outputs": [],
   "source": [
    "max_elf_index = 0; max_elf_calories = 0\n",
    "second_elf_index = 0; second_elf_calories = 0\n",
    "third_elf_index = 0; third_elf_calories = 0\n",
    "\n",
    "with open('test_day1.txt') as input_text:\n",
    "    this_elf_index = 0\n",
    "    this_elf_calories = 0\n",
    "    for line in input_text:\n",
    "        if line == '\\n':\n",
    "            if this_elf_calories >= max_elf_calories:\n",
    "                third_elf_calories = second_elf_calories\n",
    "                third_elf_index = second_elf_index\n",
    "                second_elf_calories = max_elf_calories\n",
    "                second_elf_index = max_elf_index\n",
    "                max_elf_calories = this_elf_calories\n",
    "                max_elf_index = this_elf_index\n",
    "            elif this_elf_calories >= second_elf_calories:\n",
    "                third_elf_calories = second_elf_calories\n",
    "                third_elf_index = second_elf_index\n",
    "                \n",
    "                second_elf_calories = this_elf_calories\n",
    "                second_elf_index = this_elf_index\n",
    "            elif this_elf_calories >= third_elf_calories:\n",
    "                third_elf_calories = this_elf_calories\n",
    "                third_elf_index = this_elf_index \n",
    "            this_elf_index +=1\n",
    "            this_elf_calories = 0\n",
    "        else:\n",
    "            this_elf_calories += int(line)\n",
    "    # Check last elf\n",
    "    if this_elf_calories >= max_elf_calories:\n",
    "        third_elf_calories = second_elf_calories\n",
    "        third_elf_index = second_elf_index\n",
    "        second_elf_calories = max_elf_calories\n",
    "        second_elf_index = max_elf_index\n",
    "        max_elf_calories = this_elf_calories\n",
    "        max_elf_index = this_elf_index\n",
    "    elif this_elf_calories >= second_elf_calories:\n",
    "        third_elf_calories = second_elf_calories\n",
    "        third_elf_index = second_elf_index\n",
    "\n",
    "        second_elf_calories = this_elf_calories\n",
    "        second_elf_index = this_elf_index\n",
    "    elif this_elf_calories >= third_elf_calories:\n",
    "        third_elf_calories = this_elf_calories\n",
    "        third_elf_index = this_elf_index\n",
    "\n",
    "assert max_elf_calories == 24000\n",
    "assert max_elf_index == 3\n",
    "assert second_elf_calories == 11000\n",
    "assert second_elf_index == 2\n",
    "assert third_elf_calories == 10000\n",
    "assert third_elf_index == 4\n",
    "assert max_elf_calories+second_elf_calories+third_elf_calories == 45000"
   ]
  },
  {
   "cell_type": "code",
   "execution_count": 4,
   "id": "0ec97f0e",
   "metadata": {},
   "outputs": [
    {
     "name": "stdout",
     "output_type": "stream",
     "text": [
      "209603\n"
     ]
    }
   ],
   "source": [
    "max_elf_index = 0; max_elf_calories = 0\n",
    "second_elf_index = 0; second_elf_calories = 0\n",
    "third_elf_index = 0; third_elf_calories = 0\n",
    "\n",
    "with open('input_day1.txt') as input_text:\n",
    "    this_elf_index = 0\n",
    "    this_elf_calories = 0\n",
    "    for line in input_text:\n",
    "        if line == '\\n':\n",
    "            if this_elf_calories >= max_elf_calories:\n",
    "                third_elf_calories = second_elf_calories\n",
    "                third_elf_index = second_elf_index\n",
    "                second_elf_calories = max_elf_calories\n",
    "                second_elf_index = max_elf_index\n",
    "                max_elf_calories = this_elf_calories\n",
    "                max_elf_index = this_elf_index\n",
    "            elif this_elf_calories >= second_elf_calories:\n",
    "                third_elf_calories = second_elf_calories\n",
    "                third_elf_index = second_elf_index\n",
    "                \n",
    "                second_elf_calories = this_elf_calories\n",
    "                second_elf_index = this_elf_index\n",
    "            elif this_elf_calories >= third_elf_calories:\n",
    "                third_elf_calories = this_elf_calories\n",
    "                third_elf_index = this_elf_index \n",
    "            this_elf_index +=1\n",
    "            this_elf_calories = 0\n",
    "        else:\n",
    "            this_elf_calories += int(line)\n",
    "    # Check last elf\n",
    "    if this_elf_calories >= max_elf_calories:\n",
    "        third_elf_calories = second_elf_calories\n",
    "        third_elf_index = second_elf_index\n",
    "        second_elf_calories = max_elf_calories\n",
    "        second_elf_index = max_elf_index\n",
    "        max_elf_calories = this_elf_calories\n",
    "        max_elf_index = this_elf_index\n",
    "    elif this_elf_calories >= second_elf_calories:\n",
    "        third_elf_calories = second_elf_calories\n",
    "        third_elf_index = second_elf_index\n",
    "\n",
    "        second_elf_calories = this_elf_calories\n",
    "        second_elf_index = this_elf_index\n",
    "    elif this_elf_calories >= third_elf_calories:\n",
    "        third_elf_calories = this_elf_calories\n",
    "        third_elf_index = this_elf_index\n",
    "print(max_elf_calories+second_elf_calories+third_elf_calories)"
   ]
  },
  {
   "cell_type": "code",
   "execution_count": null,
   "id": "80a501a1",
   "metadata": {},
   "outputs": [],
   "source": []
  }
 ],
 "metadata": {
  "kernelspec": {
   "display_name": "Python 3 (ipykernel)",
   "language": "python",
   "name": "python3"
  },
  "language_info": {
   "codemirror_mode": {
    "name": "ipython",
    "version": 3
   },
   "file_extension": ".py",
   "mimetype": "text/x-python",
   "name": "python",
   "nbconvert_exporter": "python",
   "pygments_lexer": "ipython3",
   "version": "3.9.10"
  }
 },
 "nbformat": 4,
 "nbformat_minor": 5
}

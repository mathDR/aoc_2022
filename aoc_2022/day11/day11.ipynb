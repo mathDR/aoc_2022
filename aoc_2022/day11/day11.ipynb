{
 "cells": [
  {
   "cell_type": "markdown",
   "id": "9aadd583",
   "metadata": {},
   "source": [
    "# Day 11"
   ]
  },
  {
   "cell_type": "markdown",
   "id": "aca7050d",
   "metadata": {},
   "source": [
    "## Part 1"
   ]
  },
  {
   "cell_type": "code",
   "execution_count": 41,
   "id": "14adc9e3",
   "metadata": {},
   "outputs": [
    {
     "name": "stdout",
     "output_type": "stream",
     "text": [
      "Part 1: 110264\n",
      "Part 2: 23612457316\n"
     ]
    }
   ],
   "source": [
    "import math\n",
    "\n",
    "def solve(rounds):\n",
    "    items = [[[int(x) for x in (data[y][18:]).split(\", \")] for y in range(1, len(data), 7)]][0]\n",
    "    n = [0] * len(divs)\n",
    "    for _ in range(rounds):\n",
    "        for i in range(len(n)):\n",
    "            for j in range(0, len(items[i])):\n",
    "                x = items[i][j]\n",
    "                if ops[i] == \"* old\":\n",
    "                    x *= x\n",
    "                else:\n",
    "                    op, val = ops[i].split()\n",
    "                    x = x + int(val) if op == \"+\" else x * int(val)\n",
    "                x = x // 3 if rounds == 20 else x % M\n",
    "                if x % divs[i] == 0:\n",
    "                    items[friends[i][0]].append(x)\n",
    "                else:\n",
    "                    items[friends[i][1]].append(x)\n",
    "                n[i] += 1\n",
    "            items[i] = []\n",
    "    return max(n) * sorted(n)[-2]\n",
    "\n",
    "data = open(\"input_day11.txt\").read().strip().split(\"\\n\")\n",
    "ops = [(\" \".join(data[x].split(\"= \")[-1].split()[1:])) for x in range(2, len(data), 7)]\n",
    "divs = [int(data[x][21:]) for x in range(3, len(data), 7)]\n",
    "friends = [[int(data[x].split()[-1]), int(data[x + 1].split()[-1])] for x in range(4, len(data), 7)]\n",
    "M = math.prod(divs)\n",
    "print(f\"Part 1: {solve(20)}\")\n",
    "print(f\"Part 2: {solve(10000)}\")"
   ]
  },
  {
   "cell_type": "markdown",
   "id": "f3492725",
   "metadata": {},
   "source": [
    "## Part 2"
   ]
  },
  {
   "cell_type": "code",
   "execution_count": null,
   "id": "c79c7cce",
   "metadata": {},
   "outputs": [],
   "source": []
  }
 ],
 "metadata": {
  "kernelspec": {
   "display_name": "Python 3 (ipykernel)",
   "language": "python",
   "name": "python3"
  },
  "language_info": {
   "codemirror_mode": {
    "name": "ipython",
    "version": 3
   },
   "file_extension": ".py",
   "mimetype": "text/x-python",
   "name": "python",
   "nbconvert_exporter": "python",
   "pygments_lexer": "ipython3",
   "version": "3.9.10"
  }
 },
 "nbformat": 4,
 "nbformat_minor": 5
}

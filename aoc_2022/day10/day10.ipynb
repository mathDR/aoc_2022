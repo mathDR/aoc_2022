{
 "cells": [
  {
   "cell_type": "markdown",
   "id": "9aadd583",
   "metadata": {},
   "source": [
    "# Day 10"
   ]
  },
  {
   "cell_type": "markdown",
   "id": "aca7050d",
   "metadata": {},
   "source": [
    "## Part 1"
   ]
  },
  {
   "cell_type": "code",
   "execution_count": 1,
   "id": "3138cc11",
   "metadata": {},
   "outputs": [],
   "source": [
    "def parse_line(line: str, X: list)->list:\n",
    "    if 'noop' in line:\n",
    "        X.append(X[-1])\n",
    "        return X\n",
    "    else:\n",
    "        val = int(line.strip('\\n').split('addx ')[1])\n",
    "        X.append(X[-1])\n",
    "        X.append(X[-1]+val)\n",
    "        return X"
   ]
  },
  {
   "cell_type": "code",
   "execution_count": 2,
   "id": "d8e633a4",
   "metadata": {},
   "outputs": [
    {
     "name": "stdout",
     "output_type": "stream",
     "text": [
      "13140\n"
     ]
    }
   ],
   "source": [
    "with open('test_day10.txt') as input_text:\n",
    "    X = [1]\n",
    "    for line in input_text:\n",
    "        X = parse_line(line,X)\n",
    "    i = 20\n",
    "    ret_sum = 0\n",
    "    while i < len(X):\n",
    "        ret_sum += i*X[i-1]\n",
    "        i += 40\n",
    "    print(ret_sum)"
   ]
  },
  {
   "cell_type": "code",
   "execution_count": 3,
   "id": "cbba1902",
   "metadata": {},
   "outputs": [
    {
     "name": "stdout",
     "output_type": "stream",
     "text": [
      "14780\n"
     ]
    }
   ],
   "source": [
    "with open('input_day10.txt') as input_text:\n",
    "    X = [1]\n",
    "    for line in input_text:\n",
    "        X = parse_line(line,X)\n",
    "    i = 20\n",
    "    ret_sum = 0\n",
    "    while i < len(X):\n",
    "        ret_sum += i*X[i-1]\n",
    "        i += 40\n",
    "    print(ret_sum)"
   ]
  },
  {
   "cell_type": "markdown",
   "id": "f3492725",
   "metadata": {},
   "source": [
    "## Part 2"
   ]
  },
  {
   "cell_type": "code",
   "execution_count": 4,
   "id": "27e7a734",
   "metadata": {},
   "outputs": [],
   "source": [
    "with open('test_day10.txt') as input_text:\n",
    "    X = [1]\n",
    "    for line in input_text:\n",
    "        X = parse_line(line,X)"
   ]
  },
  {
   "cell_type": "code",
   "execution_count": 5,
   "id": "1209c2ba",
   "metadata": {},
   "outputs": [],
   "source": [
    "output = []\n",
    "for i in range(len(X)-1):\n",
    "    if abs(X[i] - i%40) <= 1:\n",
    "        output.append('#')\n",
    "    else:\n",
    "        output.append('.')"
   ]
  },
  {
   "cell_type": "code",
   "execution_count": 6,
   "id": "3c170a40",
   "metadata": {},
   "outputs": [
    {
     "name": "stdout",
     "output_type": "stream",
     "text": [
      "##..##..##..##..##..##..##..##..##..##..\n",
      "###...###...###...###...###...###...###.\n",
      "####....####....####....####....####....\n",
      "#####.....#####.....#####.....#####.....\n",
      "######......######......######......####\n",
      "#######.......#######.......#######.....\n",
      "\n"
     ]
    }
   ],
   "source": [
    "for i in range(7):\n",
    "    this_line = ''.join(output[i*40:(i+1)*40])\n",
    "    print(this_line)"
   ]
  },
  {
   "cell_type": "code",
   "execution_count": 7,
   "id": "681106a8",
   "metadata": {},
   "outputs": [],
   "source": [
    "with open('input_day10.txt') as input_text:\n",
    "    X = [1]\n",
    "    for line in input_text:\n",
    "        X = parse_line(line,X)"
   ]
  },
  {
   "cell_type": "code",
   "execution_count": 8,
   "id": "d11b4776",
   "metadata": {},
   "outputs": [],
   "source": [
    "output = []\n",
    "for i in range(len(X)-1):\n",
    "    if abs(X[i] - i%40) <= 1:\n",
    "        output.append('#')\n",
    "    else:\n",
    "        output.append('.')"
   ]
  },
  {
   "cell_type": "code",
   "execution_count": 9,
   "id": "e91cda2b",
   "metadata": {},
   "outputs": [
    {
     "name": "stdout",
     "output_type": "stream",
     "text": [
      "####.#....###..#....####..##..####.#....\n",
      "#....#....#..#.#.......#.#..#....#.#....\n",
      "###..#....#..#.#......#..#......#..#....\n",
      "#....#....###..#.....#...#.##..#...#....\n",
      "#....#....#....#....#....#..#.#....#....\n",
      "####.####.#....####.####..###.####.####.\n",
      "\n"
     ]
    }
   ],
   "source": [
    "for i in range(7):\n",
    "    this_line = ''.join(output[i*40:(i+1)*40])\n",
    "    print(this_line)"
   ]
  },
  {
   "cell_type": "code",
   "execution_count": null,
   "id": "3bd1f5ba",
   "metadata": {},
   "outputs": [],
   "source": []
  }
 ],
 "metadata": {
  "kernelspec": {
   "display_name": "Python 3 (ipykernel)",
   "language": "python",
   "name": "python3"
  },
  "language_info": {
   "codemirror_mode": {
    "name": "ipython",
    "version": 3
   },
   "file_extension": ".py",
   "mimetype": "text/x-python",
   "name": "python",
   "nbconvert_exporter": "python",
   "pygments_lexer": "ipython3",
   "version": "3.9.10"
  }
 },
 "nbformat": 4,
 "nbformat_minor": 5
}

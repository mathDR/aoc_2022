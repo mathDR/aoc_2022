{
 "cells": [
  {
   "cell_type": "code",
   "execution_count": 2,
   "id": "19363407",
   "metadata": {},
   "outputs": [
    {
     "name": "stdout",
     "output_type": "stream",
     "text": [
      "Installing CmdStan version: 2.31.0\n",
      "Install directory: /Users/daniel.marthaler/.cmdstan\n",
      "CmdStan version 2.31.0 already installed\n"
     ]
    }
   ],
   "source": [
    "# %load /Users/daniel.marthaler/dev/marthaler/header.py\n",
    "%matplotlib inline\n",
    "%config InlineBackend.figure_format = 'retina'\n",
    "\n",
    "%load_ext autoreload\n",
    "%autoreload 2\n",
    "\n",
    "import matplotlib.pyplot as plt\n",
    "import seaborn as sns\n",
    "import numpy as np\n",
    "import pandas as pd\n",
    "from r2d2 import for_sql_in\n",
    "from r2d2.cache import DataFrameCache\n",
    "query = DataFrameCache().query\n",
    "\n",
    "import warnings\n",
    "\n",
    "plt.style.use(\"ggplot\")\n",
    "warnings.filterwarnings('ignore')\n",
    "\n",
    "from pandas.plotting import register_matplotlib_converters\n",
    "register_matplotlib_converters()\n",
    "\n",
    "plt.rc('figure', figsize=(16, 10))\n",
    "plt.rc('font', size=14)\n",
    "\n",
    "pd.set_option('display.max_rows', 500)\n",
    "\n",
    "import cmdstanpy\n",
    "cmdstanpy.install_cmdstan()\n",
    "\n",
    "from cmdstanpy import CmdStanModel"
   ]
  },
  {
   "cell_type": "code",
   "execution_count": 29,
   "id": "5cd14971",
   "metadata": {},
   "outputs": [],
   "source": [
    "priority = dict(\n",
    "    zip(list(map(chr, range(ord('a'),ord('z')+1))),range(1,27))\n",
    ")\n",
    "priority.update(\n",
    "    dict(\n",
    "        zip(list(map(chr, range(ord('A'),ord('Z')+1))),range(27,53))\n",
    "    )\n",
    ")"
   ]
  },
  {
   "cell_type": "code",
   "execution_count": 31,
   "id": "d8e633a4",
   "metadata": {},
   "outputs": [],
   "source": [
    "with open('test_input_d3.txt') as input_text:\n",
    "    total_val = 0\n",
    "    for line in input_text:\n",
    "        val = line.strip('\\n')\n",
    "        br = int(len(val)/2)\n",
    "        pack1 = val[:br]\n",
    "        pack2 = val[br:]\n",
    "        res = list(set(pack1)&set(pack2))[0]\n",
    "        total_val+=priority[res]\n",
    "    assert(total_val == 157)"
   ]
  },
  {
   "cell_type": "code",
   "execution_count": 32,
   "id": "83f720ab",
   "metadata": {},
   "outputs": [
    {
     "name": "stdout",
     "output_type": "stream",
     "text": [
      "7903\n"
     ]
    }
   ],
   "source": [
    "with open('input_day3.txt') as input_text:\n",
    "    total_val = 0\n",
    "    for line in input_text:\n",
    "        val = line.strip('\\n')\n",
    "        br = int(len(val)/2)\n",
    "        pack1 = val[:br]\n",
    "        pack2 = val[br:]\n",
    "        res = list(set(pack1)&set(pack2))[0]\n",
    "        total_val+=priority[res]\n",
    "print(total_val)"
   ]
  },
  {
   "cell_type": "markdown",
   "id": "f3492725",
   "metadata": {},
   "source": [
    "### Part 2"
   ]
  },
  {
   "cell_type": "code",
   "execution_count": 35,
   "id": "91ebbaeb",
   "metadata": {},
   "outputs": [],
   "source": [
    "with open('test_input_d3.txt') as input_text:\n",
    "    total_val = 0\n",
    "    line_count = 0\n",
    "    for line in input_text:\n",
    "        if line_count == 0:\n",
    "            first_line = line.strip('\\n')\n",
    "            line_count += 1\n",
    "            continue\n",
    "        elif line_count == 1:\n",
    "            second_line = line.strip('\\n')\n",
    "            line_count += 1\n",
    "            continue\n",
    "        elif line_count == 2:\n",
    "            third_line = line.strip('\\n')\n",
    "            line_count = 0\n",
    "            res = list(set(first_line)&set(second_line)&set(third_line))[0]\n",
    "            total_val+=priority[res]\n",
    "    assert(total_val == 70)"
   ]
  },
  {
   "cell_type": "code",
   "execution_count": 36,
   "id": "9a9c8493",
   "metadata": {},
   "outputs": [
    {
     "name": "stdout",
     "output_type": "stream",
     "text": [
      "2548\n"
     ]
    }
   ],
   "source": [
    "with open('input_day3.txt') as input_text:\n",
    "    total_val = 0\n",
    "    line_count = 0\n",
    "    for line in input_text:\n",
    "        if line_count == 0:\n",
    "            first_line = line.strip('\\n')\n",
    "            line_count += 1\n",
    "            continue\n",
    "        elif line_count == 1:\n",
    "            second_line = line.strip('\\n')\n",
    "            line_count += 1\n",
    "            continue\n",
    "        elif line_count == 2:\n",
    "            third_line = line.strip('\\n')\n",
    "            line_count = 0\n",
    "            res = list(set(first_line)&set(second_line)&set(third_line))[0]\n",
    "            total_val+=priority[res]\n",
    "print(total_val)"
   ]
  },
  {
   "cell_type": "code",
   "execution_count": null,
   "id": "1fc4e103",
   "metadata": {},
   "outputs": [],
   "source": []
  }
 ],
 "metadata": {
  "kernelspec": {
   "display_name": "Python 3 (ipykernel)",
   "language": "python",
   "name": "python3"
  },
  "language_info": {
   "codemirror_mode": {
    "name": "ipython",
    "version": 3
   },
   "file_extension": ".py",
   "mimetype": "text/x-python",
   "name": "python",
   "nbconvert_exporter": "python",
   "pygments_lexer": "ipython3",
   "version": "3.9.10"
  }
 },
 "nbformat": 4,
 "nbformat_minor": 5
}

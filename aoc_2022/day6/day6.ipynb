{
 "cells": [
  {
   "cell_type": "markdown",
   "id": "9aadd583",
   "metadata": {},
   "source": [
    "# Day"
   ]
  },
  {
   "cell_type": "markdown",
   "id": "aca7050d",
   "metadata": {},
   "source": [
    "## Part1"
   ]
  },
  {
   "cell_type": "code",
   "execution_count": 1,
   "id": "07b535ee",
   "metadata": {},
   "outputs": [],
   "source": [
    "def parse_line(line: str, protocol_length: int = 4)-> int:\n",
    "    val = line.strip('\\n')\n",
    "    prefix = val[0:0+protocol_length]\n",
    "    if len(list(set(prefix))) != protocol_length:\n",
    "        count = protocol_length\n",
    "    else:\n",
    "        return protocol_length\n",
    "    for i, c in enumerate(val[(protocol_length):]):\n",
    "        if len(list(set(prefix))) != protocol_length:\n",
    "            prefix = val[i+1:i+1+protocol_length]\n",
    "            count += 1\n",
    "        else:\n",
    "            return count"
   ]
  },
  {
   "cell_type": "code",
   "execution_count": 2,
   "id": "47054267",
   "metadata": {},
   "outputs": [],
   "source": [
    "test_line = 'mjqjpqmgbljsphdztnvjfqwrcgsmlb\\n'\n",
    "assert parse_line(test_line) == 7"
   ]
  },
  {
   "cell_type": "code",
   "execution_count": 3,
   "id": "8cec3c1d",
   "metadata": {},
   "outputs": [],
   "source": [
    "with open('answers_test_day6.txt') as input_text:\n",
    "    test_ans = []\n",
    "    for line in input_text:\n",
    "        test_ans.append(int(line.strip('\\n')))\n",
    "    assert test_ans == [7,5,6,10,11]"
   ]
  },
  {
   "cell_type": "code",
   "execution_count": 4,
   "id": "d8e633a4",
   "metadata": {},
   "outputs": [],
   "source": [
    "with open('test_day6.txt') as input_text:\n",
    "    for i, line in enumerate(input_text):\n",
    "        assert parse_line(line) == test_ans[i]"
   ]
  },
  {
   "cell_type": "code",
   "execution_count": 5,
   "id": "92a08115",
   "metadata": {},
   "outputs": [
    {
     "name": "stdout",
     "output_type": "stream",
     "text": [
      "1658\n"
     ]
    }
   ],
   "source": [
    "with open('input_day6.txt') as input_text:\n",
    "    for i, line in enumerate(input_text):\n",
    "        print(parse_line(line))"
   ]
  },
  {
   "cell_type": "markdown",
   "id": "f3492725",
   "metadata": {},
   "source": [
    "## Part 2"
   ]
  },
  {
   "cell_type": "code",
   "execution_count": 6,
   "id": "27e7a734",
   "metadata": {},
   "outputs": [],
   "source": [
    "test_ans_part2 = [19,23,23,29,26]\n",
    "with open('test_day6.txt') as input_text:\n",
    "    for i, line in enumerate(input_text):\n",
    "        assert parse_line(line,protocol_length=14) == test_ans_part2[i]"
   ]
  },
  {
   "cell_type": "code",
   "execution_count": 7,
   "id": "3c35792b",
   "metadata": {},
   "outputs": [
    {
     "name": "stdout",
     "output_type": "stream",
     "text": [
      "2260\n"
     ]
    }
   ],
   "source": [
    "with open('input_day6.txt') as input_text:\n",
    "    for i, line in enumerate(input_text):\n",
    "        print(parse_line(line,protocol_length=14))"
   ]
  },
  {
   "cell_type": "code",
   "execution_count": null,
   "id": "764782be",
   "metadata": {},
   "outputs": [],
   "source": []
  }
 ],
 "metadata": {
  "kernelspec": {
   "display_name": "Python 3 (ipykernel)",
   "language": "python",
   "name": "python3"
  },
  "language_info": {
   "codemirror_mode": {
    "name": "ipython",
    "version": 3
   },
   "file_extension": ".py",
   "mimetype": "text/x-python",
   "name": "python",
   "nbconvert_exporter": "python",
   "pygments_lexer": "ipython3",
   "version": "3.9.10"
  }
 },
 "nbformat": 4,
 "nbformat_minor": 5
}

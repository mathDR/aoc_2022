{
 "cells": [
  {
   "cell_type": "markdown",
   "id": "9aadd583",
   "metadata": {},
   "source": [
    "# Day 8"
   ]
  },
  {
   "cell_type": "markdown",
   "id": "aca7050d",
   "metadata": {},
   "source": [
    "## Part1"
   ]
  },
  {
   "cell_type": "code",
   "execution_count": 1,
   "id": "1e8c2ca7",
   "metadata": {},
   "outputs": [],
   "source": [
    "def parse_line(line:str)->list[int]:\n",
    "    val = line.strip('\\n')\n",
    "    return [int(c) for c in val]"
   ]
  },
  {
   "cell_type": "code",
   "execution_count": 2,
   "id": "32a6a4ef",
   "metadata": {},
   "outputs": [],
   "source": [
    "test_line = '30373\\n'\n",
    "assert parse_line(test_line) == [3, 0, 3, 7, 3]"
   ]
  },
  {
   "cell_type": "code",
   "execution_count": 3,
   "id": "87b708b9",
   "metadata": {},
   "outputs": [],
   "source": [
    "# From https://datagy.io/python-transpose-list-of-lists/\n",
    "def transpose_matrix(M:list[list[int]])->list[list[int]]:\n",
    "    return [list(sublist) for sublist in list(zip(*M))]"
   ]
  },
  {
   "cell_type": "code",
   "execution_count": 4,
   "id": "78817741",
   "metadata": {},
   "outputs": [],
   "source": [
    "test_matrix = [\n",
    "    [1,2,3],\n",
    "    [4,5,6],\n",
    "    [7,8,9]\n",
    "]\n",
    "transposed_matrix = [\n",
    "    [1, 4, 7], \n",
    "    [2, 5, 8], \n",
    "    [3, 6, 9]\n",
    "]\n",
    "assert transpose_matrix(test_matrix) == transposed_matrix"
   ]
  },
  {
   "cell_type": "code",
   "execution_count": 5,
   "id": "581400ce",
   "metadata": {
    "code_folding": []
   },
   "outputs": [],
   "source": [
    "def left_visible(M: list[list[int]], reverse=False)->list[list[int]]:\n",
    "    '''\n",
    "      Returns a masked list of lists (same shape as input M) with\n",
    "      1 if the tree is visible from the left and 0 if not\n",
    "    '''\n",
    "    masked_M = []\n",
    "    M_copy = M.copy()\n",
    "    for row in M_copy:\n",
    "        if reverse == True:\n",
    "            row.reverse()\n",
    "        highest_tree = row[0]\n",
    "        this_masked_row = [1]\n",
    "        for j in row[1:]:\n",
    "            if j > highest_tree:\n",
    "                this_masked_row.append(1)\n",
    "                highest_tree = j\n",
    "            else:\n",
    "                this_masked_row.append(0)\n",
    "        masked_M.append(this_masked_row)\n",
    "    return masked_M"
   ]
  },
  {
   "cell_type": "code",
   "execution_count": 6,
   "id": "d9da1b5b",
   "metadata": {},
   "outputs": [],
   "source": [
    "test_matrix = [\n",
    "    [3,0,3,7,3],\n",
    "    [2,5,5,1,2],\n",
    "    [6,5,3,3,2],\n",
    "    [3,3,5,4,9],\n",
    "    [3,5,3,9,0]\n",
    "]"
   ]
  },
  {
   "cell_type": "code",
   "execution_count": 7,
   "id": "b976c14c",
   "metadata": {},
   "outputs": [],
   "source": [
    "matrix_mask_left = [\n",
    "    [1,0,0,1,0],\n",
    "    [1,1,0,0,0],\n",
    "    [1,0,0,0,0],\n",
    "    [1,0,1,0,1],\n",
    "    [1,1,0,1,0]\n",
    "]\n",
    "assert left_visible(test_matrix) == matrix_mask_left"
   ]
  },
  {
   "cell_type": "code",
   "execution_count": 8,
   "id": "660486e9",
   "metadata": {},
   "outputs": [],
   "source": [
    "matrix_mask_right = [\n",
    "    [1,1,0,0,0],\n",
    "    [1,0,1,0,0],\n",
    "    [1,1,0,1,1],\n",
    "    [1,0,0,0,0],\n",
    "    [1,1,0,0,0]\n",
    "]\n",
    "assert left_visible(test_matrix,reverse=True) == matrix_mask_right"
   ]
  },
  {
   "cell_type": "code",
   "execution_count": 9,
   "id": "5ea8ce9c",
   "metadata": {},
   "outputs": [],
   "source": [
    "MT = transpose_matrix(test_matrix)"
   ]
  },
  {
   "cell_type": "code",
   "execution_count": 10,
   "id": "146bece7",
   "metadata": {},
   "outputs": [],
   "source": [
    "matrix_mask_top = [\n",
    "    [1,0,0,1,0],\n",
    "    [1,0,0,0,1],\n",
    "    [1,1,0,0,0],\n",
    "    [1,1,0,0,0],\n",
    "    [1,0,1,0,0]\n",
    "]\n",
    "assert left_visible(MT) == matrix_mask_top"
   ]
  },
  {
   "cell_type": "code",
   "execution_count": 11,
   "id": "1bb1980b",
   "metadata": {},
   "outputs": [],
   "source": [
    "matrix_mask_bottom = [\n",
    "    [1,1,0,0,0],\n",
    "    [1,0,0,0,0],\n",
    "    [1,1,0,0,0],\n",
    "    [1,0,0,0,0],\n",
    "    [1,0,1,0,0]\n",
    "]\n",
    "assert left_visible(MT,reverse=True) == matrix_mask_bottom"
   ]
  },
  {
   "cell_type": "code",
   "execution_count": 12,
   "id": "75d3f277",
   "metadata": {
    "code_folding": [
     0
    ]
   },
   "outputs": [],
   "source": [
    "def combine_masks(M1:list[list[int]], M2:list[list[int]])->list[list[int]]:\n",
    "    '''\n",
    "      Returns the pairwise-or between two list-of-lists elementwise\n",
    "    '''\n",
    "    ret_M = []\n",
    "    for i in range(len(M1)):\n",
    "        this_row = []\n",
    "        for j in range(len(M1[0])):\n",
    "            this_row.append(M1[i][j]|M2[i][j])\n",
    "        ret_M.append(this_row)\n",
    "    return ret_M"
   ]
  },
  {
   "cell_type": "code",
   "execution_count": 13,
   "id": "1bc9f1ee",
   "metadata": {},
   "outputs": [],
   "source": [
    "combined_mask = [\n",
    "    [1,1,0,1,0],\n",
    "    [1,1,1,0,0],\n",
    "    [1,1,0,1,1],\n",
    "    [1,0,1,0,1],\n",
    "    [1,1,0,1,0]\n",
    "]\n",
    "assert combine_masks(matrix_mask_left,matrix_mask_right) == combined_mask"
   ]
  },
  {
   "cell_type": "code",
   "execution_count": 14,
   "id": "d88d95a2",
   "metadata": {},
   "outputs": [],
   "source": [
    "def visible_trees(M:list[list[int]])->int:\n",
    "    '''\n",
    "      returns the total sum of the list of lists\n",
    "    '''\n",
    "    return sum([sum(row) for row in M])"
   ]
  },
  {
   "cell_type": "code",
   "execution_count": 15,
   "id": "8f32d822",
   "metadata": {},
   "outputs": [],
   "source": [
    "assert visible_trees(combined_mask) == 16"
   ]
  },
  {
   "cell_type": "code",
   "execution_count": 16,
   "id": "a22e8859",
   "metadata": {
    "code_folding": [
     0
    ]
   },
   "outputs": [],
   "source": [
    "def fill_in_edges(M:list[list[int]])->list[list[int]]:\n",
    "    '''\n",
    "      Populates the \"edges\" of M as 1\n",
    "    '''\n",
    "    ret_M = [[1]*len(M[0])]\n",
    "    for row in M[1:-1]:\n",
    "        this_row = [1]\n",
    "        for c in row[1:-1]:\n",
    "            this_row.append(c)\n",
    "        this_row.append(1)\n",
    "        ret_M.append(this_row)\n",
    "    ret_M.append([1]*len(M[-1]))\n",
    "    return ret_M"
   ]
  },
  {
   "cell_type": "code",
   "execution_count": 17,
   "id": "fb923f22",
   "metadata": {},
   "outputs": [],
   "source": [
    "filled_in_combined_mask = [\n",
    "    [1,1,1,1,1],\n",
    "    [1,1,1,0,1],\n",
    "    [1,1,0,1,1],\n",
    "    [1,0,1,0,1],\n",
    "    [1,1,1,1,1]\n",
    "]\n",
    "assert fill_in_edges(combined_mask)==filled_in_combined_mask"
   ]
  },
  {
   "cell_type": "code",
   "execution_count": 24,
   "id": "c88a57d6",
   "metadata": {},
   "outputs": [],
   "source": [
    "import numpy as np"
   ]
  },
  {
   "cell_type": "code",
   "execution_count": 42,
   "id": "d8e633a4",
   "metadata": {},
   "outputs": [],
   "source": [
    "with open('test_day8.txt') as input_text:\n",
    "    matrix = []\n",
    "    for line in input_text:\n",
    "        matrix.append(parse_line(line))\n"
   ]
  },
  {
   "cell_type": "code",
   "execution_count": 82,
   "id": "6cbb1a9e",
   "metadata": {},
   "outputs": [
    {
     "name": "stdout",
     "output_type": "stream",
     "text": [
      "21\n"
     ]
    }
   ],
   "source": [
    "M = np.array(matrix)\n",
    "n = M.shape[0]\n",
    "m = M.shape[1]\n",
    "total_sum = 2*M.shape[0] # first and last rows\n",
    "for i in range(1,M.shape[0]-1):\n",
    "    total_sum += 2 # (left and right edges)\n",
    "    for j in range(1,M.shape[1]-1):\n",
    "        val = M[i,j]\n",
    "        if (\n",
    "            (val > np.max(M[i,:j]) or \n",
    "             (val > np.max(M[i,-(n-j)+1:])) or \n",
    "             (val > np.max(M[:i,j])) or \n",
    "             (val > np.max(M[-(n-i)+1::,j]))\n",
    "            )\n",
    "        ):\n",
    "            total_sum+=1\n",
    "print(total_sum)"
   ]
  },
  {
   "cell_type": "code",
   "execution_count": 83,
   "id": "b378275e",
   "metadata": {},
   "outputs": [],
   "source": [
    "with open('input_day8.txt') as input_text:\n",
    "    matrix = []\n",
    "    for line in input_text:\n",
    "        matrix.append(parse_line(line))"
   ]
  },
  {
   "cell_type": "code",
   "execution_count": 84,
   "id": "b9b22b19",
   "metadata": {},
   "outputs": [
    {
     "name": "stdout",
     "output_type": "stream",
     "text": [
      "1690\n"
     ]
    }
   ],
   "source": [
    "M = np.array(matrix)\n",
    "n = M.shape[0]\n",
    "m = M.shape[1]\n",
    "total_sum = 2*M.shape[0] # first and last rows\n",
    "for i in range(1,M.shape[0]-1):\n",
    "    total_sum += 2 # (left and right edges)\n",
    "    for j in range(1,M.shape[1]-1):\n",
    "        val = M[i,j]\n",
    "        if (\n",
    "            (val > np.max(M[i,:j]) or \n",
    "             (val > np.max(M[i,-(n-j)+1:])) or \n",
    "             (val > np.max(M[:i,j])) or \n",
    "             (val > np.max(M[-(n-i)+1::,j]))\n",
    "            )\n",
    "        ):\n",
    "            total_sum+=1\n",
    "print(total_sum)"
   ]
  },
  {
   "cell_type": "code",
   "execution_count": 37,
   "id": "06640c84",
   "metadata": {},
   "outputs": [
    {
     "name": "stdout",
     "output_type": "stream",
     "text": [
      "20080\n"
     ]
    }
   ],
   "source": [
    "M = np.array(matrix)\n",
    "total_sum = 2*M.shape[0] # first and last rows\n",
    "for i in range(1,M.shape[0]-1):\n",
    "    for j in range(1,M.shape[1]-1):\n",
    "        total_sum += 2 # (left and right edges)\n",
    "        val = M[i,j]\n",
    "        if (\n",
    "            (val > np.max(M[i,:j]) or \n",
    "             (val > np.max(M[i,-j+1:])) or \n",
    "             (val > np.max(M[:i,j])) or \n",
    "             (val > np.max(M[-i+1:,j]))\n",
    "            )\n",
    "        ):\n",
    "            total_sum+=1\n",
    "print(total_sum)"
   ]
  },
  {
   "cell_type": "markdown",
   "id": "f3492725",
   "metadata": {},
   "source": [
    "## Part 2"
   ]
  },
  {
   "cell_type": "code",
   "execution_count": 107,
   "id": "ec67bfe0",
   "metadata": {},
   "outputs": [
    {
     "name": "stdout",
     "output_type": "stream",
     "text": [
      "6\n",
      "5\n",
      "4\n",
      "3\n",
      "2\n",
      "1\n",
      "0\n"
     ]
    }
   ],
   "source": [
    "for i in range(0,7)[::-1]:\n",
    "    print(i)"
   ]
  },
  {
   "cell_type": "code",
   "execution_count": 114,
   "id": "8e67bc75",
   "metadata": {
    "code_folding": []
   },
   "outputs": [],
   "source": [
    "def lazy_crawler(i:int,j:int,M:np.matrix)->(int,int,int,int):\n",
    "    '''\n",
    "    crawl out and find unobstructed tree lengths\n",
    "    omfg the DRY!\n",
    "    '''\n",
    "    val = M[i,j]\n",
    "    \n",
    "    up = 0\n",
    "    for k in range(0,i)[::-1]:\n",
    "        up += 1\n",
    "        uval = M[k,j]\n",
    "        if(uval < val):\n",
    "            continue\n",
    "        break\n",
    "    \n",
    "    down = 0\n",
    "    for k in range(i+1,M.shape[0]):\n",
    "        down += 1\n",
    "        dval = M[k,j]\n",
    "        if(dval < val):\n",
    "            continue\n",
    "        break\n",
    "    \n",
    "    left = 0\n",
    "    for k in range(0,j)[::-1]:\n",
    "        left += 1\n",
    "        lval = M[i,k]\n",
    "        if(lval < val):\n",
    "            continue\n",
    "        break\n",
    "    \n",
    "    right = 0\n",
    "    for k in range(j+1,M.shape[1]):\n",
    "        right += 1\n",
    "        rval = M[i,k]\n",
    "        if(rval < val):\n",
    "            continue\n",
    "        break\n",
    "\n",
    "    return up,left,down,right"
   ]
  },
  {
   "cell_type": "code",
   "execution_count": 115,
   "id": "853e9d95",
   "metadata": {},
   "outputs": [],
   "source": [
    "with open('test_day8.txt') as input_text:\n",
    "    matrix = []\n",
    "    for line in input_text:\n",
    "        matrix.append(parse_line(line))"
   ]
  },
  {
   "cell_type": "code",
   "execution_count": 119,
   "id": "25fb9430",
   "metadata": {},
   "outputs": [
    {
     "name": "stdout",
     "output_type": "stream",
     "text": [
      "8\n"
     ]
    }
   ],
   "source": [
    "M = np.array(matrix)\n",
    "max_scenic_score = 0\n",
    "for i in range(1,M.shape[0]-1):\n",
    "    for j in range(1,M.shape[1]-1):\n",
    "        l,r,u,d = lazy_crawler(i,j,M)\n",
    "        sc = l*r*u*d\n",
    "        if sc > max_scenic_score:\n",
    "            max_scenic_score = sc\n",
    "print(max_scenic_score)"
   ]
  },
  {
   "cell_type": "code",
   "execution_count": 120,
   "id": "8c123cae",
   "metadata": {},
   "outputs": [],
   "source": [
    "with open('input_day8.txt') as input_text:\n",
    "    matrix = []\n",
    "    for line in input_text:\n",
    "        matrix.append(parse_line(line))"
   ]
  },
  {
   "cell_type": "code",
   "execution_count": 121,
   "id": "fbd519d0",
   "metadata": {},
   "outputs": [
    {
     "name": "stdout",
     "output_type": "stream",
     "text": [
      "535680\n"
     ]
    }
   ],
   "source": [
    "M = np.array(matrix)\n",
    "max_scenic_score = 0\n",
    "for i in range(1,M.shape[0]-1):\n",
    "    for j in range(1,M.shape[1]-1):\n",
    "        l,r,u,d = lazy_crawler(i,j,M)\n",
    "        sc = l*r*u*d\n",
    "        if sc > max_scenic_score:\n",
    "            max_scenic_score = sc\n",
    "print(max_scenic_score)"
   ]
  },
  {
   "cell_type": "code",
   "execution_count": null,
   "id": "17625944",
   "metadata": {},
   "outputs": [],
   "source": []
  }
 ],
 "metadata": {
  "kernelspec": {
   "display_name": "Python 3 (ipykernel)",
   "language": "python",
   "name": "python3"
  },
  "language_info": {
   "codemirror_mode": {
    "name": "ipython",
    "version": 3
   },
   "file_extension": ".py",
   "mimetype": "text/x-python",
   "name": "python",
   "nbconvert_exporter": "python",
   "pygments_lexer": "ipython3",
   "version": "3.9.10"
  }
 },
 "nbformat": 4,
 "nbformat_minor": 5
}

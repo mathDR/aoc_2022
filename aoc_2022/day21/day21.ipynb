{
 "cells": [
  {
   "cell_type": "markdown",
   "id": "9aadd583",
   "metadata": {},
   "source": [
    "# Day 21"
   ]
  },
  {
   "cell_type": "code",
   "execution_count": 1,
   "id": "65269833",
   "metadata": {},
   "outputs": [],
   "source": [
    "import operator"
   ]
  },
  {
   "cell_type": "markdown",
   "id": "aca7050d",
   "metadata": {},
   "source": [
    "## Part 1"
   ]
  },
  {
   "cell_type": "code",
   "execution_count": 2,
   "id": "45d7a42a",
   "metadata": {},
   "outputs": [],
   "source": [
    "ops = {\" + \": operator.add, \" - \": operator.sub, \" / \": operator.floordiv, \" * \": operator.mul, \" = \": operator.eq}"
   ]
  },
  {
   "cell_type": "code",
   "execution_count": 3,
   "id": "76941299",
   "metadata": {
    "code_folding": []
   },
   "outputs": [],
   "source": [
    "def parse_line(line:str, monkeys: dict)->dict:\n",
    "    key = line.strip('\\n').split(': ')[0]\n",
    "    val = line.strip('\\n').split(': ')[1]\n",
    "    try:\n",
    "        monkeys[key] = int(val)\n",
    "    except ValueError:\n",
    "        monkeys[key] = val\n",
    "    return monkeys"
   ]
  },
  {
   "cell_type": "code",
   "execution_count": 4,
   "id": "891847ba",
   "metadata": {
    "code_folding": [
     0
    ]
   },
   "outputs": [],
   "source": [
    "def part1(monkeys:dict)->int:\n",
    "    # recursively iterate through the dict until we can compute root:\n",
    "    flag = True\n",
    "    while flag:\n",
    "        flag = False\n",
    "        for key in monkeys.keys():\n",
    "            if isinstance(monkeys[key],int):\n",
    "                continue\n",
    "            flag = True \n",
    "            val = monkeys[key]\n",
    "            for op in ops.keys():\n",
    "                if op in val:\n",
    "                    left, right = val.split(op)\n",
    "                    try:\n",
    "                        monkeys[key] = int(ops[op](monkeys[left],monkeys[right]))\n",
    "                    except ValueError:\n",
    "                        break\n",
    "                    except TypeError:\n",
    "                        # One value is known, the other isn't\n",
    "                        for c in [left,right]:\n",
    "                            if isinstance(monkeys[c],int):\n",
    "                                continue\n",
    "                            try:\n",
    "                                monkeys[c] = int(monkeys[c])\n",
    "                            except ValueError:\n",
    "                                break\n",
    "    return(monkeys['root'])"
   ]
  },
  {
   "cell_type": "code",
   "execution_count": 5,
   "id": "d8e633a4",
   "metadata": {
    "code_folding": []
   },
   "outputs": [],
   "source": [
    "with open('test_day21.txt') as input_text:\n",
    "    monkeys = {}\n",
    "    for line in input_text:\n",
    "        monkeys = parse_line(line,monkeys)\n",
    "    assert(part1(monkeys)==152)"
   ]
  },
  {
   "cell_type": "code",
   "execution_count": 6,
   "id": "5ce49054",
   "metadata": {
    "code_folding": [
     0
    ]
   },
   "outputs": [
    {
     "name": "stdout",
     "output_type": "stream",
     "text": [
      "31017034894002\n"
     ]
    }
   ],
   "source": [
    "with open('input_day21.txt') as input_text:\n",
    "    monkeys = {}\n",
    "    for line in input_text:\n",
    "        monkeys = parse_line(line,monkeys)\n",
    "    print(part1(monkeys))"
   ]
  },
  {
   "cell_type": "markdown",
   "id": "f3492725",
   "metadata": {},
   "source": [
    "## Part 2"
   ]
  },
  {
   "cell_type": "code",
   "execution_count": 15,
   "id": "a6d564a0",
   "metadata": {},
   "outputs": [],
   "source": [
    "reverse_op = {\" + \":\" - \",\" - \":\" + \",\" * \":\" / \",\" / \":\" * \"}"
   ]
  },
  {
   "cell_type": "code",
   "execution_count": 23,
   "id": "69066b78",
   "metadata": {},
   "outputs": [],
   "source": [
    "def parse_value(val:str)->list[str]:\n",
    "    for op in ops:\n",
    "        if op in val:\n",
    "            new_val = val.split(op)\n",
    "            return [new_val[0],op,new_val[1]]"
   ]
  },
  {
   "cell_type": "code",
   "execution_count": 78,
   "id": "27e7a734",
   "metadata": {},
   "outputs": [],
   "source": [
    "def parse_line_part2(line:str, monkeys: dict)->dict:\n",
    "    key = line.strip('\\n').split(': ')[0]\n",
    "    val = line.strip('\\n').split(': ')[1]\n",
    "    if 'root' in key:\n",
    "        for op in ops:\n",
    "            if op in val:\n",
    "                new_val = val.replace(op,' = ').split(' = ')\n",
    "                monkeys['root'] = [new_val[0],' = ',new_val[1]]\n",
    "                return monkeys\n",
    "    try:\n",
    "        monkeys[key] = int(val)\n",
    "    except ValueError:\n",
    "        monkeys[key] = parse_value(val)\n",
    "    return monkeys"
   ]
  },
  {
   "cell_type": "code",
   "execution_count": 81,
   "id": "55922ef1",
   "metadata": {},
   "outputs": [],
   "source": [
    "# find side of equation with 'humn' in it.  We can evaluate the other side, and we will \"undo\" the 'humn' side\n",
    "def humn_side_of_equation(k):\n",
    "    val = monkeys[k]\n",
    "    if isinstance(val,int):\n",
    "        return False\n",
    "    elif \"humn\" in val:\n",
    "        return True\n",
    "    else:\n",
    "        return humn_side_of_equation(val[0]) or humn_side_of_equation(val[2])"
   ]
  },
  {
   "cell_type": "code",
   "execution_count": 82,
   "id": "d899d4d9",
   "metadata": {},
   "outputs": [],
   "source": [
    "def evaluate(k, rpn=False):\n",
    "    val = monkeys[k]\n",
    "    if isinstance(val,int):\n",
    "        if k==\"humn\" and rpn:\n",
    "            return [\"x\"]\n",
    "        return [val] if rpn else val\n",
    "    else:\n",
    "        if rpn:\n",
    "            param1 = [*evaluate(val[0],rpn)]\n",
    "            param2 = [*evaluate(val[2],rpn)]\n",
    "            if len(param1)==len(param2) and len(param1)==1:\n",
    "                if isinstance(param1[0],int) and isinstance(param2[0],int):\n",
    "                    return [ops[val[1]](param1[0],param2[0])]\n",
    "            return [param1,val[1],param2]\n",
    "        return (ops[val[1]](evaluate(val[0]),evaluate(val[2])))"
   ]
  },
  {
   "cell_type": "code",
   "execution_count": 90,
   "id": "b807d141",
   "metadata": {},
   "outputs": [],
   "source": [
    "#find side w/ humn branch\n",
    "def part2(monkeys:dict)->int:\n",
    "    k = monkeys[\"root\"]\n",
    "    humn_branch,nonhumn_branch = (k[0],k[2]) if humn_side_of_equation(k[0]) else (k[2],k[0])\n",
    "    rhs = evaluate(nonhumn_branch)\n",
    "\n",
    "    #now we need the evaluation of humn_branch to be equal to nonhumn_branch\n",
    "    unpacked_equation = evaluate(humn_branch,True)\n",
    "    # #work down to \"x\"\n",
    "    while True:\n",
    "        if unpacked_equation==[\"x\"]: break\n",
    "        i1,op,i2 = unpacked_equation\n",
    "        if len(i1)==1 and isinstance(i1[0],int):\n",
    "            i = i1[0]\n",
    "            if op in [' + ', ' - ']:\n",
    "                o = \" - \"\n",
    "            else: o = \" / \"\n",
    "            if op in [' + ',' * ']:\n",
    "                rhs = ops[o](rhs,i)\n",
    "            else:\n",
    "                rhs = ops[o](i, rhs)\n",
    "            unpacked_equation = i2\n",
    "        elif len(i2)==1 and isinstance(i2[0],int):\n",
    "            i = i2[0]\n",
    "            rhs = ops[reverse_op[op]](rhs,i)\n",
    "            unpacked_equation = i1\n",
    "    print(rhs)\n",
    "    return(rhs)"
   ]
  },
  {
   "cell_type": "code",
   "execution_count": 91,
   "id": "6ab9461c",
   "metadata": {},
   "outputs": [
    {
     "name": "stdout",
     "output_type": "stream",
     "text": [
      "301\n"
     ]
    }
   ],
   "source": [
    "with open('test_day21.txt') as input_text:\n",
    "    monkeys = {}\n",
    "    for line in input_text:\n",
    "        monkeys = parse_line_part2(line,monkeys)\n",
    "    assert(part2(monkeys)==301)"
   ]
  },
  {
   "cell_type": "code",
   "execution_count": 93,
   "id": "01a4f63d",
   "metadata": {},
   "outputs": [
    {
     "name": "stdout",
     "output_type": "stream",
     "text": [
      "3555057453229\n"
     ]
    }
   ],
   "source": [
    "with open('input_day21.txt') as input_text:\n",
    "    monkeys = {}\n",
    "    for line in input_text:\n",
    "        monkeys = parse_line_part2(line,monkeys)\n",
    "    part2(monkeys)"
   ]
  },
  {
   "cell_type": "code",
   "execution_count": null,
   "id": "f0d26cd5",
   "metadata": {},
   "outputs": [],
   "source": []
  }
 ],
 "metadata": {
  "kernelspec": {
   "display_name": "Python 3 (ipykernel)",
   "language": "python",
   "name": "python3"
  },
  "language_info": {
   "codemirror_mode": {
    "name": "ipython",
    "version": 3
   },
   "file_extension": ".py",
   "mimetype": "text/x-python",
   "name": "python",
   "nbconvert_exporter": "python",
   "pygments_lexer": "ipython3",
   "version": "3.9.10"
  }
 },
 "nbformat": 4,
 "nbformat_minor": 5
}

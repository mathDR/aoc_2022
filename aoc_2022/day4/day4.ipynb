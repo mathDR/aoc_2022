{
 "cells": [
  {
   "cell_type": "markdown",
   "id": "9931e24c",
   "metadata": {},
   "source": [
    "# Day 4"
   ]
  },
  {
   "cell_type": "markdown",
   "id": "06d6ab05",
   "metadata": {},
   "source": [
    "## Part 1"
   ]
  },
  {
   "cell_type": "code",
   "execution_count": 1,
   "id": "d8e633a4",
   "metadata": {},
   "outputs": [],
   "source": [
    "with open('test_day4.txt') as input_text:\n",
    "    total_pairs = 0\n",
    "    for line in input_text:\n",
    "        val = line.strip('\\n')\n",
    "        elf1, elf2 = val.split(',')\n",
    "        l1,r1 = elf1.split('-')\n",
    "        l2,r2 = elf2.split('-')\n",
    "        if int(l1)<=int(l2):\n",
    "            if int(r1)>=int(r2):\n",
    "                total_pairs += 1\n",
    "                continue\n",
    "        if int(l2)<=int(l1):\n",
    "            if int(r2)>=int(r1):\n",
    "                total_pairs += 1\n",
    "    assert(total_pairs==2)"
   ]
  },
  {
   "cell_type": "code",
   "execution_count": 2,
   "id": "f1870b19",
   "metadata": {},
   "outputs": [
    {
     "name": "stdout",
     "output_type": "stream",
     "text": [
      "444\n"
     ]
    }
   ],
   "source": [
    "with open('input_day4.txt') as input_text:\n",
    "    total_pairs = 0\n",
    "    for line in input_text:\n",
    "        val = line.strip('\\n')\n",
    "        elf1, elf2 = val.split(',')\n",
    "        l1,r1 = elf1.split('-')\n",
    "        l2,r2 = elf2.split('-')\n",
    "        if int(l1)<=int(l2):\n",
    "            if int(r1)>=int(r2):\n",
    "                total_pairs += 1\n",
    "                continue\n",
    "        if int(l2)<=int(l1):\n",
    "            if int(r2)>=int(r1):\n",
    "                total_pairs += 1\n",
    "    print(total_pairs)"
   ]
  },
  {
   "cell_type": "markdown",
   "id": "f3492725",
   "metadata": {},
   "source": [
    "## Part 2"
   ]
  },
  {
   "cell_type": "code",
   "execution_count": 3,
   "id": "1fc4e103",
   "metadata": {},
   "outputs": [],
   "source": [
    "with open('test_day4.txt') as input_text:\n",
    "    total_overlap = 0\n",
    "    for line in input_text:\n",
    "        val = line.strip('\\n')\n",
    "        elf1, elf2 = val.split(',')\n",
    "        l1,r1 = elf1.split('-')\n",
    "        l2,r2 = elf2.split('-')\n",
    "        if (set(range(int(l1),int(r1)+1)).intersection(set(range(int(l2),int(r2)+1)))) != set():\n",
    "            total_overlap += 1\n",
    "    assert total_overlap == 4\n",
    "    "
   ]
  },
  {
   "cell_type": "code",
   "execution_count": 4,
   "id": "2c0d3aa1",
   "metadata": {},
   "outputs": [
    {
     "name": "stdout",
     "output_type": "stream",
     "text": [
      "801\n"
     ]
    }
   ],
   "source": [
    "with open('input_day4.txt') as input_text:\n",
    "    total_overlap = 0\n",
    "    for line in input_text:\n",
    "        val = line.strip('\\n')\n",
    "        elf1, elf2 = val.split(',')\n",
    "        l1,r1 = elf1.split('-')\n",
    "        l2,r2 = elf2.split('-')\n",
    "        if (set(range(int(l1),int(r1)+1)).intersection(set(range(int(l2),int(r2)+1)))) != set():\n",
    "            total_overlap += 1\n",
    "    print(total_overlap)"
   ]
  },
  {
   "cell_type": "code",
   "execution_count": null,
   "id": "27e7a734",
   "metadata": {},
   "outputs": [],
   "source": []
  }
 ],
 "metadata": {
  "kernelspec": {
   "display_name": "Python 3 (ipykernel)",
   "language": "python",
   "name": "python3"
  },
  "language_info": {
   "codemirror_mode": {
    "name": "ipython",
    "version": 3
   },
   "file_extension": ".py",
   "mimetype": "text/x-python",
   "name": "python",
   "nbconvert_exporter": "python",
   "pygments_lexer": "ipython3",
   "version": "3.9.10"
  }
 },
 "nbformat": 4,
 "nbformat_minor": 5
}

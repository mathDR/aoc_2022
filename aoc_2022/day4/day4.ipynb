{
 "cells": [
  {
   "cell_type": "code",
   "execution_count": 1,
   "id": "19363407",
   "metadata": {},
   "outputs": [
    {
     "name": "stdout",
     "output_type": "stream",
     "text": [
      "Installing CmdStan version: 2.31.0\n",
      "Install directory: /Users/daniel.marthaler/.cmdstan\n",
      "CmdStan version 2.31.0 already installed\n"
     ]
    }
   ],
   "source": [
    "# %load /Users/daniel.marthaler/dev/marthaler/header.py\n",
    "%matplotlib inline\n",
    "%config InlineBackend.figure_format = 'retina'\n",
    "\n",
    "%load_ext autoreload\n",
    "%autoreload 2\n",
    "\n",
    "import matplotlib.pyplot as plt\n",
    "import seaborn as sns\n",
    "import numpy as np\n",
    "import pandas as pd\n",
    "from r2d2 import for_sql_in\n",
    "from r2d2.cache import DataFrameCache\n",
    "query = DataFrameCache().query\n",
    "\n",
    "import warnings\n",
    "\n",
    "plt.style.use(\"ggplot\")\n",
    "warnings.filterwarnings('ignore')\n",
    "\n",
    "from pandas.plotting import register_matplotlib_converters\n",
    "register_matplotlib_converters()\n",
    "\n",
    "plt.rc('figure', figsize=(16, 10))\n",
    "plt.rc('font', size=14)\n",
    "\n",
    "pd.set_option('display.max_rows', 500)\n",
    "\n",
    "import cmdstanpy\n",
    "cmdstanpy.install_cmdstan()\n",
    "\n",
    "from cmdstanpy import CmdStanModel"
   ]
  },
  {
   "cell_type": "code",
   "execution_count": 5,
   "id": "d8e633a4",
   "metadata": {},
   "outputs": [],
   "source": [
    "with open('test_day3.txt') as input_text:\n",
    "    total_pairs = 0\n",
    "    for line in input_text:\n",
    "        val = line.strip('\\n')\n",
    "        elf1, elf2 = val.split(',')\n",
    "        l1,r1 = elf1.split('-')\n",
    "        l2,r2 = elf2.split('-')\n",
    "        if int(l1)<=int(l2):\n",
    "            if int(r1)>=int(r2):\n",
    "                total_pairs += 1\n",
    "                continue\n",
    "        if int(l2)<=int(l1):\n",
    "            if int(r2)>=int(r1):\n",
    "                total_pairs += 1\n",
    "    assert(total_pairs==2)"
   ]
  },
  {
   "cell_type": "code",
   "execution_count": 6,
   "id": "f1870b19",
   "metadata": {},
   "outputs": [
    {
     "name": "stdout",
     "output_type": "stream",
     "text": [
      "444\n"
     ]
    }
   ],
   "source": [
    "with open('input_day3.txt') as input_text:\n",
    "    total_pairs = 0\n",
    "    for line in input_text:\n",
    "        val = line.strip('\\n')\n",
    "        elf1, elf2 = val.split(',')\n",
    "        l1,r1 = elf1.split('-')\n",
    "        l2,r2 = elf2.split('-')\n",
    "        if int(l1)<=int(l2):\n",
    "            if int(r1)>=int(r2):\n",
    "                total_pairs += 1\n",
    "                continue\n",
    "        if int(l2)<=int(l1):\n",
    "            if int(r2)>=int(r1):\n",
    "                total_pairs += 1\n",
    "    print(total_pairs)"
   ]
  },
  {
   "cell_type": "markdown",
   "id": "f3492725",
   "metadata": {},
   "source": [
    "### Part 2"
   ]
  },
  {
   "cell_type": "code",
   "execution_count": 13,
   "id": "1fc4e103",
   "metadata": {},
   "outputs": [],
   "source": [
    "with open('test_day3.txt') as input_text:\n",
    "    total_overlap = 0\n",
    "    for line in input_text:\n",
    "        val = line.strip('\\n')\n",
    "        elf1, elf2 = val.split(',')\n",
    "        l1,r1 = elf1.split('-')\n",
    "        l2,r2 = elf2.split('-')\n",
    "        if (set(range(int(l1),int(r1)+1)).intersection(set(range(int(l2),int(r2)+1)))) != set():\n",
    "            total_overlap += 1\n",
    "    assert total_overlap == 4\n",
    "    "
   ]
  },
  {
   "cell_type": "code",
   "execution_count": 14,
   "id": "2c0d3aa1",
   "metadata": {},
   "outputs": [
    {
     "name": "stdout",
     "output_type": "stream",
     "text": [
      "801\n"
     ]
    }
   ],
   "source": [
    "with open('input_day3.txt') as input_text:\n",
    "    total_overlap = 0\n",
    "    for line in input_text:\n",
    "        val = line.strip('\\n')\n",
    "        elf1, elf2 = val.split(',')\n",
    "        l1,r1 = elf1.split('-')\n",
    "        l2,r2 = elf2.split('-')\n",
    "        if (set(range(int(l1),int(r1)+1)).intersection(set(range(int(l2),int(r2)+1)))) != set():\n",
    "            total_overlap += 1\n",
    "    print(total_overlap)"
   ]
  },
  {
   "cell_type": "code",
   "execution_count": null,
   "id": "27e7a734",
   "metadata": {},
   "outputs": [],
   "source": []
  }
 ],
 "metadata": {
  "kernelspec": {
   "display_name": "Python 3 (ipykernel)",
   "language": "python",
   "name": "python3"
  },
  "language_info": {
   "codemirror_mode": {
    "name": "ipython",
    "version": 3
   },
   "file_extension": ".py",
   "mimetype": "text/x-python",
   "name": "python",
   "nbconvert_exporter": "python",
   "pygments_lexer": "ipython3",
   "version": "3.9.10"
  }
 },
 "nbformat": 4,
 "nbformat_minor": 5
}

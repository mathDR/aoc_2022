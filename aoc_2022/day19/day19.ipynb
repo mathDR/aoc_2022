{
 "cells": [
  {
   "cell_type": "markdown",
   "id": "9aadd583",
   "metadata": {},
   "source": [
    "# Day 19"
   ]
  },
  {
   "cell_type": "code",
   "execution_count": 1,
   "id": "331f3b6f",
   "metadata": {},
   "outputs": [
    {
     "ename": "ModuleNotFoundError",
     "evalue": "No module named 'scipy.sparse.linalg.eigen.arpack'; 'scipy.sparse.linalg.eigen' is not a package",
     "output_type": "error",
     "traceback": [
      "\u001b[0;31m---------------------------------------------------------------------------\u001b[0m",
      "\u001b[0;31mModuleNotFoundError\u001b[0m                       Traceback (most recent call last)",
      "Cell \u001b[0;32mIn [1], line 2\u001b[0m\n\u001b[1;32m      1\u001b[0m \u001b[38;5;28;01mimport\u001b[39;00m \u001b[38;5;21;01mnumpy\u001b[39;00m \u001b[38;5;28;01mas\u001b[39;00m \u001b[38;5;21;01mnp\u001b[39;00m\n\u001b[0;32m----> 2\u001b[0m \u001b[38;5;28;01mimport\u001b[39;00m \u001b[38;5;21;01mcvxpy\u001b[39;00m \u001b[38;5;28;01mas\u001b[39;00m \u001b[38;5;21;01mcp\u001b[39;00m\n\u001b[1;32m      3\u001b[0m \u001b[38;5;28;01mimport\u001b[39;00m \u001b[38;5;21;01mre\u001b[39;00m\n",
      "File \u001b[0;32m~/.pyenv/versions/3.9.10/envs/gator/lib/python3.9/site-packages/cvxpy/__init__.py:18\u001b[0m\n\u001b[1;32m      1\u001b[0m \u001b[38;5;124;03m\"\"\"\u001b[39;00m\n\u001b[1;32m      2\u001b[0m \u001b[38;5;124;03mCopyright, the CVXPY authors\u001b[39;00m\n\u001b[1;32m      3\u001b[0m \n\u001b[0;32m   (...)\u001b[0m\n\u001b[1;32m     14\u001b[0m \u001b[38;5;124;03mlimitations under the License.\u001b[39;00m\n\u001b[1;32m     15\u001b[0m \u001b[38;5;124;03m\"\"\"\u001b[39;00m\n\u001b[1;32m     17\u001b[0m __version__ \u001b[38;5;241m=\u001b[39m \u001b[38;5;124m\"\u001b[39m\u001b[38;5;124m1.1.7\u001b[39m\u001b[38;5;124m\"\u001b[39m\n\u001b[0;32m---> 18\u001b[0m \u001b[38;5;28;01mfrom\u001b[39;00m \u001b[38;5;21;01mcvxpy\u001b[39;00m\u001b[38;5;21;01m.\u001b[39;00m\u001b[38;5;21;01matoms\u001b[39;00m \u001b[38;5;28;01mimport\u001b[39;00m \u001b[38;5;241m*\u001b[39m\n\u001b[1;32m     19\u001b[0m \u001b[38;5;28;01mfrom\u001b[39;00m \u001b[38;5;21;01mcvxpy\u001b[39;00m\u001b[38;5;21;01m.\u001b[39;00m\u001b[38;5;21;01mconstraints\u001b[39;00m \u001b[38;5;28;01mimport\u001b[39;00m NonPos, Zero, SOC, PSD\n\u001b[1;32m     20\u001b[0m \u001b[38;5;28;01mfrom\u001b[39;00m \u001b[38;5;21;01mcvxpy\u001b[39;00m\u001b[38;5;21;01m.\u001b[39;00m\u001b[38;5;21;01mexpressions\u001b[39;00m\u001b[38;5;21;01m.\u001b[39;00m\u001b[38;5;21;01mexpression\u001b[39;00m \u001b[38;5;28;01mimport\u001b[39;00m Expression\n",
      "File \u001b[0;32m~/.pyenv/versions/3.9.10/envs/gator/lib/python3.9/site-packages/cvxpy/atoms/__init__.py:17\u001b[0m\n\u001b[1;32m      1\u001b[0m \u001b[38;5;124;03m\"\"\"\u001b[39;00m\n\u001b[1;32m      2\u001b[0m \u001b[38;5;124;03mCopyright 2013 Steven Diamond\u001b[39;00m\n\u001b[1;32m      3\u001b[0m \n\u001b[0;32m   (...)\u001b[0m\n\u001b[1;32m     14\u001b[0m \u001b[38;5;124;03mlimitations under the License.\u001b[39;00m\n\u001b[1;32m     15\u001b[0m \u001b[38;5;124;03m\"\"\"\u001b[39;00m\n\u001b[0;32m---> 17\u001b[0m \u001b[38;5;28;01mfrom\u001b[39;00m \u001b[38;5;21;01mcvxpy\u001b[39;00m\u001b[38;5;21;01m.\u001b[39;00m\u001b[38;5;21;01matoms\u001b[39;00m\u001b[38;5;21;01m.\u001b[39;00m\u001b[38;5;21;01mcummax\u001b[39;00m \u001b[38;5;28;01mimport\u001b[39;00m cummax\n\u001b[1;32m     18\u001b[0m \u001b[38;5;28;01mfrom\u001b[39;00m \u001b[38;5;21;01mcvxpy\u001b[39;00m\u001b[38;5;21;01m.\u001b[39;00m\u001b[38;5;21;01matoms\u001b[39;00m\u001b[38;5;21;01m.\u001b[39;00m\u001b[38;5;21;01mdist_ratio\u001b[39;00m \u001b[38;5;28;01mimport\u001b[39;00m dist_ratio\n\u001b[1;32m     19\u001b[0m \u001b[38;5;28;01mfrom\u001b[39;00m \u001b[38;5;21;01mcvxpy\u001b[39;00m\u001b[38;5;21;01m.\u001b[39;00m\u001b[38;5;21;01matoms\u001b[39;00m\u001b[38;5;21;01m.\u001b[39;00m\u001b[38;5;21;01meye_minus_inv\u001b[39;00m \u001b[38;5;28;01mimport\u001b[39;00m eye_minus_inv, resolvent\n",
      "File \u001b[0;32m~/.pyenv/versions/3.9.10/envs/gator/lib/python3.9/site-packages/cvxpy/atoms/cummax.py:17\u001b[0m\n\u001b[1;32m      1\u001b[0m \u001b[38;5;124;03m\"\"\"\u001b[39;00m\n\u001b[1;32m      2\u001b[0m \u001b[38;5;124;03mCopyright 2017 Steven Diamond\u001b[39;00m\n\u001b[1;32m      3\u001b[0m \n\u001b[0;32m   (...)\u001b[0m\n\u001b[1;32m     14\u001b[0m \u001b[38;5;124;03mlimitations under the License.\u001b[39;00m\n\u001b[1;32m     15\u001b[0m \u001b[38;5;124;03m\"\"\"\u001b[39;00m\n\u001b[0;32m---> 17\u001b[0m \u001b[38;5;28;01mfrom\u001b[39;00m \u001b[38;5;21;01mcvxpy\u001b[39;00m\u001b[38;5;21;01m.\u001b[39;00m\u001b[38;5;21;01matoms\u001b[39;00m\u001b[38;5;21;01m.\u001b[39;00m\u001b[38;5;21;01matom\u001b[39;00m \u001b[38;5;28;01mimport\u001b[39;00m Atom\n\u001b[1;32m     18\u001b[0m \u001b[38;5;28;01mfrom\u001b[39;00m \u001b[38;5;21;01mcvxpy\u001b[39;00m\u001b[38;5;21;01m.\u001b[39;00m\u001b[38;5;21;01matoms\u001b[39;00m\u001b[38;5;21;01m.\u001b[39;00m\u001b[38;5;21;01maxis_atom\u001b[39;00m \u001b[38;5;28;01mimport\u001b[39;00m AxisAtom\n\u001b[1;32m     19\u001b[0m \u001b[38;5;28;01mimport\u001b[39;00m \u001b[38;5;21;01mnumpy\u001b[39;00m \u001b[38;5;28;01mas\u001b[39;00m \u001b[38;5;21;01mnp\u001b[39;00m\n",
      "File \u001b[0;32m~/.pyenv/versions/3.9.10/envs/gator/lib/python3.9/site-packages/cvxpy/atoms/atom.py:21\u001b[0m\n\u001b[1;32m     19\u001b[0m \u001b[38;5;28;01mfrom\u001b[39;00m \u001b[38;5;21;01mcvxpy\u001b[39;00m \u001b[38;5;28;01mimport\u001b[39;00m interface \u001b[38;5;28;01mas\u001b[39;00m intf\n\u001b[1;32m     20\u001b[0m \u001b[38;5;28;01mfrom\u001b[39;00m \u001b[38;5;21;01mcvxpy\u001b[39;00m\u001b[38;5;21;01m.\u001b[39;00m\u001b[38;5;21;01mexpressions\u001b[39;00m \u001b[38;5;28;01mimport\u001b[39;00m cvxtypes\n\u001b[0;32m---> 21\u001b[0m \u001b[38;5;28;01mfrom\u001b[39;00m \u001b[38;5;21;01mcvxpy\u001b[39;00m\u001b[38;5;21;01m.\u001b[39;00m\u001b[38;5;21;01mexpressions\u001b[39;00m\u001b[38;5;21;01m.\u001b[39;00m\u001b[38;5;21;01mconstants\u001b[39;00m \u001b[38;5;28;01mimport\u001b[39;00m Constant\n\u001b[1;32m     22\u001b[0m \u001b[38;5;28;01mfrom\u001b[39;00m \u001b[38;5;21;01mcvxpy\u001b[39;00m\u001b[38;5;21;01m.\u001b[39;00m\u001b[38;5;21;01mexpressions\u001b[39;00m\u001b[38;5;21;01m.\u001b[39;00m\u001b[38;5;21;01mexpression\u001b[39;00m \u001b[38;5;28;01mimport\u001b[39;00m Expression\n\u001b[1;32m     23\u001b[0m \u001b[38;5;28;01mimport\u001b[39;00m \u001b[38;5;21;01mcvxpy\u001b[39;00m\u001b[38;5;21;01m.\u001b[39;00m\u001b[38;5;21;01mlin_ops\u001b[39;00m\u001b[38;5;21;01m.\u001b[39;00m\u001b[38;5;21;01mlin_utils\u001b[39;00m \u001b[38;5;28;01mas\u001b[39;00m \u001b[38;5;21;01mlu\u001b[39;00m\n",
      "File \u001b[0;32m~/.pyenv/versions/3.9.10/envs/gator/lib/python3.9/site-packages/cvxpy/expressions/constants/__init__.py:17\u001b[0m\n\u001b[1;32m      1\u001b[0m \u001b[38;5;124;03m\"\"\"\u001b[39;00m\n\u001b[1;32m      2\u001b[0m \u001b[38;5;124;03mCopyright 2013 Steven Diamond\u001b[39;00m\n\u001b[1;32m      3\u001b[0m \n\u001b[0;32m   (...)\u001b[0m\n\u001b[1;32m     14\u001b[0m \u001b[38;5;124;03mlimitations under the License.\u001b[39;00m\n\u001b[1;32m     15\u001b[0m \u001b[38;5;124;03m\"\"\"\u001b[39;00m\n\u001b[0;32m---> 17\u001b[0m \u001b[38;5;28;01mfrom\u001b[39;00m \u001b[38;5;21;01m.\u001b[39;00m\u001b[38;5;21;01mconstant\u001b[39;00m \u001b[38;5;28;01mimport\u001b[39;00m Constant\n\u001b[1;32m     18\u001b[0m \u001b[38;5;28;01mfrom\u001b[39;00m \u001b[38;5;21;01m.\u001b[39;00m\u001b[38;5;21;01mcallback_param\u001b[39;00m \u001b[38;5;28;01mimport\u001b[39;00m CallbackParam\n\u001b[1;32m     19\u001b[0m \u001b[38;5;28;01mfrom\u001b[39;00m \u001b[38;5;21;01m.\u001b[39;00m\u001b[38;5;21;01mparameter\u001b[39;00m \u001b[38;5;28;01mimport\u001b[39;00m Parameter\n",
      "File \u001b[0;32m~/.pyenv/versions/3.9.10/envs/gator/lib/python3.9/site-packages/cvxpy/expressions/constants/constant.py:23\u001b[0m\n\u001b[1;32m     21\u001b[0m \u001b[38;5;28;01mfrom\u001b[39;00m \u001b[38;5;21;01mcvxpy\u001b[39;00m\u001b[38;5;21;01m.\u001b[39;00m\u001b[38;5;21;01mutilities\u001b[39;00m \u001b[38;5;28;01mimport\u001b[39;00m performance_utils \u001b[38;5;28;01mas\u001b[39;00m perf\n\u001b[1;32m     22\u001b[0m \u001b[38;5;28;01mfrom\u001b[39;00m \u001b[38;5;21;01mscipy\u001b[39;00m\u001b[38;5;21;01m.\u001b[39;00m\u001b[38;5;21;01msparse\u001b[39;00m\u001b[38;5;21;01m.\u001b[39;00m\u001b[38;5;21;01mlinalg\u001b[39;00m \u001b[38;5;28;01mimport\u001b[39;00m eigsh\n\u001b[0;32m---> 23\u001b[0m \u001b[38;5;28;01mfrom\u001b[39;00m \u001b[38;5;21;01mscipy\u001b[39;00m\u001b[38;5;21;01m.\u001b[39;00m\u001b[38;5;21;01msparse\u001b[39;00m\u001b[38;5;21;01m.\u001b[39;00m\u001b[38;5;21;01mlinalg\u001b[39;00m\u001b[38;5;21;01m.\u001b[39;00m\u001b[38;5;21;01meigen\u001b[39;00m\u001b[38;5;21;01m.\u001b[39;00m\u001b[38;5;21;01marpack\u001b[39;00m\u001b[38;5;21;01m.\u001b[39;00m\u001b[38;5;21;01marpack\u001b[39;00m \u001b[38;5;28;01mimport\u001b[39;00m ArpackError\n\u001b[1;32m     24\u001b[0m \u001b[38;5;28;01mimport\u001b[39;00m \u001b[38;5;21;01mnumpy\u001b[39;00m \u001b[38;5;28;01mas\u001b[39;00m \u001b[38;5;21;01mnp\u001b[39;00m\n\u001b[1;32m     27\u001b[0m \u001b[38;5;28;01mclass\u001b[39;00m \u001b[38;5;21;01mConstant\u001b[39;00m(Leaf):\n",
      "\u001b[0;31mModuleNotFoundError\u001b[0m: No module named 'scipy.sparse.linalg.eigen.arpack'; 'scipy.sparse.linalg.eigen' is not a package"
     ]
    }
   ],
   "source": [
    "import numpy as np\n",
    "import cvxpy as cp\n",
    "import re"
   ]
  },
  {
   "cell_type": "markdown",
   "id": "aca7050d",
   "metadata": {},
   "source": [
    "## Part 1"
   ]
  },
  {
   "cell_type": "code",
   "execution_count": 44,
   "id": "01121e0f",
   "metadata": {},
   "outputs": [],
   "source": [
    "def optimize_blueprint(costs, time):\n",
    "    ore_ore, clay_ore, obsidian_ore, obsidian_clay, geode_ore, geode_obsidian = costs\n",
    "    cost_matrix = np.array([\n",
    "        [ore_ore, clay_ore, obsidian_ore, geode_ore],\n",
    "        [0, 0, obsidian_clay, 0],\n",
    "        [0, 0, 0, geode_obsidian],\n",
    "        [0, 0, 0, 0]\n",
    "    ])\n",
    "\n",
    "    # resource_variables[i] = how many of each resource available after minute i. resource_variables[i-1] - (costs * production_variables[i]) + robot_variables[i]\n",
    "    # robot_variables[i] = how many robots are available on minute i to work. essentially robot_variables[i-1] + production_variables[i-1]\n",
    "    # production_variables[i] = how many of each robot to build. can only build one per minute, restricted to using resource_variables[i-1].\n",
    "    resource_variables = []\n",
    "    robot_variables = []\n",
    "    production_variables = []\n",
    "    constraints = []\n",
    "    for i in range(time + 1):\n",
    "        resources = cp.Variable(4)\n",
    "        robots = cp.Variable(4)\n",
    "        production_decisions = cp.Variable(4, boolean=True)\n",
    "\n",
    "        if i == 0:\n",
    "            constraints.append(resources == 0)\n",
    "            constraints.append(robots[0] == 1)\n",
    "            constraints.append(robots[1:] == 0)\n",
    "            constraints.append(production_decisions == 0)\n",
    "        else:\n",
    "            prev_resources = resource_variables[-1]\n",
    "            constraints.append(robots == robot_variables[-1] + production_variables[-1])\n",
    "            \n",
    "            constraints.append(cp.sum(production_decisions) <= 1)\n",
    "\n",
    "            constraints.append(cost_matrix @ production_decisions <= prev_resources)\n",
    "            constraints.append(resources == (prev_resources + robots - (cost_matrix @ production_decisions)))\n",
    "\n",
    "        robot_variables.append(robots)\n",
    "        resource_variables.append(resources)\n",
    "        production_variables.append(production_decisions)\n",
    "\n",
    "    objective = cp.Maximize(resource_variables[-1][3])\n",
    "    problem = cp.Problem(objective, constraints)\n",
    "    problem.solve(solver='ECOS_BB')\n",
    "    return problem.value"
   ]
  },
  {
   "cell_type": "code",
   "execution_count": 45,
   "id": "25168cfa",
   "metadata": {},
   "outputs": [],
   "source": [
    "def parse_line(line:str)->list[int]:\n",
    "    blueprint_index = int(line.split('.')[0].split(':')[0].split('Blueprint ')[1])\n",
    "    ore_ore = int(line.split('.')[0].split(':')[1].split(' ore')[1].split('costs ')[1])\n",
    "    clay_ore = int(line.split('.')[1].split(' ore')[0].split('costs ')[1])\n",
    "    obsidian_ore = int(line.split('.')[2].split('costs ')[1].split(' ore and ')[0])\n",
    "    obsidian_clay = int(line.split('.')[2].split('costs ')[1].split(' ore and ')[1].split(' clay')[0])\n",
    "    geode_ore = int(line.split('.')[3].split('costs ')[1].split(' ore and ')[0])\n",
    "    geode_obsidian = int(line.split('.')[3].split('costs ')[1].split(' ore and ')[1].split(' obsidian')[0])\n",
    "    return [blueprint_index, ore_ore, clay_ore, obsidian_ore, obsidian_clay, geode_ore, geode_obsidian]"
   ]
  },
  {
   "cell_type": "code",
   "execution_count": 46,
   "id": "d8e633a4",
   "metadata": {},
   "outputs": [
    {
     "name": "stdout",
     "output_type": "stream",
     "text": [
      "11.00000000015008\n",
      "0\n"
     ]
    },
    {
     "name": "stderr",
     "output_type": "stream",
     "text": [
      "/Users/daniel.marthaler/.pyenv/versions/3.9.10/envs/cmdstanpy/lib/python3.9/site-packages/cvxpy/problems/problem.py:1337: UserWarning: Solution may be inaccurate. Try another solver, adjusting the solver settings, or solve with verbose=True for more information.\n",
      "  warnings.warn(\n"
     ]
    }
   ],
   "source": [
    "with open('test_day19.txt') as input_text:\n",
    "    total_quality = 0\n",
    "    for line in input_text:\n",
    "        if line != '\\n':\n",
    "            vals = parse_line(line)\n",
    "            blueprint_index, costs = numbers[0], numbers[1:]\n",
    "            print(optimize_blueprint(costs,time=24))\n",
    "            #total_quality += bp_id * optimize_blueprint(costs, time=24)\n",
    "            break\n",
    "    print(total_quality)"
   ]
  },
  {
   "cell_type": "code",
   "execution_count": 37,
   "id": "f3e60cf6",
   "metadata": {},
   "outputs": [],
   "source": [
    "ore_ore, clay_ore, obsidian_ore, obsidian_clay, geode_ore, geode_obsidian = all_costs[0][1:]\n",
    "cost_matrix = np.array([\n",
    "    [ore_ore, clay_ore, obsidian_ore, geode_ore],\n",
    "    [0, 0, obsidian_clay, 0],\n",
    "    [0, 0, 0, geode_obsidian],\n",
    "    [0, 0, 0, 0]\n",
    "])"
   ]
  },
  {
   "cell_type": "code",
   "execution_count": 38,
   "id": "5ca5ed50",
   "metadata": {},
   "outputs": [
    {
     "data": {
      "text/plain": [
       "array([[ 4,  2,  3,  2],\n",
       "       [ 0,  0, 14,  0],\n",
       "       [ 0,  0,  0,  7],\n",
       "       [ 0,  0,  0,  0]])"
      ]
     },
     "execution_count": 38,
     "metadata": {},
     "output_type": "execute_result"
    }
   ],
   "source": [
    "cost_matrix"
   ]
  },
  {
   "cell_type": "code",
   "execution_count": null,
   "id": "a9903aaf",
   "metadata": {},
   "outputs": [],
   "source": []
  },
  {
   "cell_type": "markdown",
   "id": "f3492725",
   "metadata": {},
   "source": [
    "## Part 2"
   ]
  },
  {
   "cell_type": "code",
   "execution_count": null,
   "id": "27e7a734",
   "metadata": {},
   "outputs": [],
   "source": [
    "import numpy as np\n",
    "import cvxpy as cp\n",
    "import re\n",
    "\n",
    "\n",
    "\n",
    "with open('input') as f:\n",
    "    blueprints = f.readlines()\n",
    "    total_quality = 0\n",
    "    for blueprint in blueprints:\n",
    "        numbers = list(map(int, re.findall('\\d+', blueprint)))\n",
    "        bp_id, costs = numbers[0], numbers[1:]\n",
    "        total_quality += bp_id * optimize_blueprint(costs, time=24)\n",
    "    print(total_quality)\n",
    "\n",
    "with open('input') as f:\n",
    "    blueprints = f.readlines()\n",
    "    total_quality = 1\n",
    "    for blueprint in blueprints[:3]:\n",
    "        numbers = list(map(int, re.findall('\\d+', blueprint)))\n",
    "        bp_id, costs = numbers[0], numbers[1:]\n",
    "        total_quality *= optimize_blueprint(costs, time=32)\n",
    "    print(total_quality)"
   ]
  }
 ],
 "metadata": {
  "kernelspec": {
   "display_name": "Python 3 (ipykernel)",
   "language": "python",
   "name": "python3"
  },
  "language_info": {
   "codemirror_mode": {
    "name": "ipython",
    "version": 3
   },
   "file_extension": ".py",
   "mimetype": "text/x-python",
   "name": "python",
   "nbconvert_exporter": "python",
   "pygments_lexer": "ipython3",
   "version": "3.9.10"
  }
 },
 "nbformat": 4,
 "nbformat_minor": 5
}

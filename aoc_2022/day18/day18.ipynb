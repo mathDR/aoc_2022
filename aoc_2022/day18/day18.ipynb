{
 "cells": [
  {
   "cell_type": "markdown",
   "id": "9aadd583",
   "metadata": {},
   "source": [
    "# Day 18"
   ]
  },
  {
   "cell_type": "markdown",
   "id": "aca7050d",
   "metadata": {},
   "source": [
    "## Part 1"
   ]
  },
  {
   "cell_type": "code",
   "execution_count": 1,
   "id": "b6b1f0dc",
   "metadata": {},
   "outputs": [],
   "source": [
    "def compute_surface_area(cubes:list[tuple[int]], exposed_sides: dict)->int:\n",
    "    for i in range(len(cubes)):\n",
    "            for j in range(i + 1, len(cubes)):\n",
    "                if common_face(cubes[i], cubes[j]):\n",
    "                    exposed_sides[cubes[i]] = max(exposed_sides[cubes[i]] - 1, 0)\n",
    "                    exposed_sides[cubes[j]] = max(exposed_sides[cubes[j]] - 1, 0)\n",
    "\n",
    "    return sum(exposed_sides.values())"
   ]
  },
  {
   "cell_type": "code",
   "execution_count": 2,
   "id": "d489b7bd",
   "metadata": {},
   "outputs": [],
   "source": [
    "def common_face(f1, f2):\n",
    "    def check_face(ind1: int, ind2: int, ind3: int)->bool:  \n",
    "        if f1[ind1] == f2[ind1] and f1[ind2] == f2[ind2] and abs(f1[ind3] - f2[ind3]) == 1:\n",
    "            return True\n",
    "        return False\n",
    "    return check_face(0,1,2) or check_face(0,2,1) or check_face(1,2,0)"
   ]
  },
  {
   "cell_type": "code",
   "execution_count": 3,
   "id": "e74dc5bf",
   "metadata": {},
   "outputs": [],
   "source": [
    "assert common_face([1,1,1],[2,1,1]) == True"
   ]
  },
  {
   "cell_type": "code",
   "execution_count": 4,
   "id": "502d241f",
   "metadata": {},
   "outputs": [],
   "source": [
    "def parse_line(line:str)->tuple[int]:\n",
    "    global MAX_X\n",
    "    global MAX_Y\n",
    "    global MAX_Z\n",
    "        \n",
    "    c = line.strip().split(',')\n",
    "    MAX_X = max(int(c[0]), MAX_X)\n",
    "    MAX_Y = max(int(c[1]), MAX_Y)\n",
    "    MAX_Z = max(int(c[2]), MAX_Z)\n",
    "    return (int(c[0]), int(c[1]), int(c[2]))"
   ]
  },
  {
   "cell_type": "code",
   "execution_count": 5,
   "id": "d8e633a4",
   "metadata": {},
   "outputs": [],
   "source": [
    "MAX_X = -1\n",
    "MAX_Y = -1\n",
    "MAX_Z = -1\n",
    "with open('test_day18.txt') as input_text:\n",
    "    cubes = []\n",
    "    exposed_sides = {}\n",
    "    for line in input_text:\n",
    "        cube = parse_line(line)\n",
    "        cubes.append(cube)\n",
    "        exposed_sides[cube] = 6\n",
    "    assert (compute_surface_area(cubes, exposed_sides)) == 64"
   ]
  },
  {
   "cell_type": "code",
   "execution_count": 6,
   "id": "50904584",
   "metadata": {},
   "outputs": [
    {
     "name": "stdout",
     "output_type": "stream",
     "text": [
      "4482\n"
     ]
    }
   ],
   "source": [
    "MAX_X = -1\n",
    "MAX_Y = -1\n",
    "MAX_Z = -1\n",
    "with open('input_day18.txt') as input_text:\n",
    "    cubes = []\n",
    "    exposed_sides = {}\n",
    "    for line in input_text:\n",
    "        cube = parse_line(line)\n",
    "        cubes.append(cube)\n",
    "        exposed_sides[cube] = 6\n",
    "    print(compute_surface_area(cubes, exposed_sides))"
   ]
  },
  {
   "cell_type": "markdown",
   "id": "f3492725",
   "metadata": {},
   "source": [
    "## Part 2"
   ]
  },
  {
   "cell_type": "code",
   "execution_count": 7,
   "id": "a308f636",
   "metadata": {},
   "outputs": [],
   "source": [
    "def BFS(start, wind_map, cubes_map):\n",
    "    queue = [start]\n",
    "    visited = {start}\n",
    "    while queue:\n",
    "        cube = queue.pop(0)\n",
    "        wind_map.add(cube)\n",
    "        for offset_cube in OFFSETS:\n",
    "            new_cube = (cube[0] + offset_cube[0], cube[1] + offset_cube[1], cube[2] + offset_cube[2])\n",
    "            if new_cube not in visited:\n",
    "                visited.add(new_cube)\n",
    "                if new_cube[0] >= 0 and new_cube[0] <= MAX_X + 1 and new_cube[1] >= 0 and new_cube[1] <= MAX_Y and \\\n",
    "                    new_cube[2] >= 0 and new_cube[2] <= MAX_Z and new_cube not in cubes_map and new_cube not in wind_map:\n",
    "                        queue.append(new_cube)"
   ]
  },
  {
   "cell_type": "code",
   "execution_count": 8,
   "id": "29bf4f37",
   "metadata": {},
   "outputs": [],
   "source": [
    "def part2(cubes,exposed_sides):\n",
    "    for i in range(len(cubes)):\n",
    "        for j in range(i + 1, len(cubes)):\n",
    "            if common_face(cubes[i], cubes[j]):\n",
    "                exposed_sides[cubes[i]] = max(exposed_sides[cubes[i]] - 1, 0)\n",
    "                exposed_sides[cubes[j]] = max(exposed_sides[cubes[j]] - 1, 0)\n",
    "    \n",
    "    pockets_map = {}\n",
    "    wind_map = set()\n",
    "    start = (0, 0, 0)\n",
    "    BFS(start, wind_map, exposed_sides)\n",
    "    \n",
    "    for i in range(1, MAX_X + 1):\n",
    "        for j in range(1, MAX_Y + 1):\n",
    "            for k in range(1, MAX_Z + 1):\n",
    "                cube = (i, j, k)\n",
    "                if cube not in wind_map and cube not in exposed_sides:\n",
    "                    pockets_map[cube] = 6\n",
    "     \n",
    "    pockets = list(pockets_map.keys())\n",
    "    \n",
    "    for i in range(len(pockets)):\n",
    "        for j in range(i + 1, len(pockets)):\n",
    "            if common_face(pockets[i], pockets[j]):\n",
    "                pockets_map[pockets[i]] = max(pockets_map[pockets[i]] - 1, 0)\n",
    "                pockets_map[pockets[j]] = max(pockets_map[pockets[j]] - 1, 0)\n",
    "    \n",
    "    return sum(exposed_sides.values()) - sum(pockets_map.values())"
   ]
  },
  {
   "cell_type": "code",
   "execution_count": 9,
   "id": "43a760e3",
   "metadata": {},
   "outputs": [],
   "source": [
    "MAX_X = -1\n",
    "MAX_Y = -1\n",
    "MAX_Z = -1\n",
    "OFFSETS = [(-1, 0, 0), (1, 0, 0), (0, 1, 0), (0, -1, 0), (0, 0, 1), (0, 0, -1)]\n",
    "with open('test_day18.txt') as input_text:\n",
    "    cubes = []\n",
    "    exposed_sides = {}\n",
    "    for line in input_text:\n",
    "        cube = parse_line(line)\n",
    "        cubes.append(cube)\n",
    "        exposed_sides[cube] = 6\n",
    "    assert (part2(cubes, exposed_sides)) == 58"
   ]
  },
  {
   "cell_type": "code",
   "execution_count": 10,
   "id": "86d02809",
   "metadata": {},
   "outputs": [
    {
     "name": "stdout",
     "output_type": "stream",
     "text": [
      "2576\n"
     ]
    }
   ],
   "source": [
    "MAX_X = -1\n",
    "MAX_Y = -1\n",
    "MAX_Z = -1\n",
    "OFFSETS = [(-1, 0, 0), (1, 0, 0), (0, 1, 0), (0, -1, 0), (0, 0, 1), (0, 0, -1)]\n",
    "with open('input_day18.txt') as input_text:\n",
    "    cubes = []\n",
    "    exposed_sides = {}\n",
    "    for line in input_text:\n",
    "        cube = parse_line(line)\n",
    "        cubes.append(cube)\n",
    "        exposed_sides[cube] = 6\n",
    "    print(part2(cubes, exposed_sides))"
   ]
  },
  {
   "cell_type": "code",
   "execution_count": null,
   "id": "7f89a1a5",
   "metadata": {},
   "outputs": [],
   "source": []
  }
 ],
 "metadata": {
  "kernelspec": {
   "display_name": "Python 3 (ipykernel)",
   "language": "python",
   "name": "python3"
  },
  "language_info": {
   "codemirror_mode": {
    "name": "ipython",
    "version": 3
   },
   "file_extension": ".py",
   "mimetype": "text/x-python",
   "name": "python",
   "nbconvert_exporter": "python",
   "pygments_lexer": "ipython3",
   "version": "3.9.10"
  }
 },
 "nbformat": 4,
 "nbformat_minor": 5
}

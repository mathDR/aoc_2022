{
 "cells": [
  {
   "cell_type": "markdown",
   "id": "9aadd583",
   "metadata": {},
   "source": [
    "# Day 9"
   ]
  },
  {
   "cell_type": "markdown",
   "id": "aca7050d",
   "metadata": {},
   "source": [
    "## Part 1"
   ]
  },
  {
   "cell_type": "code",
   "execution_count": 1,
   "id": "ef9b7e28",
   "metadata": {},
   "outputs": [],
   "source": [
    "directions={'R':1+0j,'L':-1+0j,'U':-1j,'D':1j} # Euclidean Coordinates"
   ]
  },
  {
   "cell_type": "code",
   "execution_count": 2,
   "id": "9ac5d659",
   "metadata": {},
   "outputs": [],
   "source": [
    "def parse_line(line:str, s: list[complex], visited: set[complex])->(list[complex], set[complex]):\n",
    "    move, num_moves = line.strip('\\n').split(' ')\n",
    "    for i in range(int(num_moves)):\n",
    "        s[0] += directions[move]\n",
    "        diff = s[0]-s[1]\n",
    "        if abs(int(diff.real))==2:\n",
    "            # Move left or right\n",
    "            diff=complex(diff.real//2,diff.imag)\n",
    "        elif abs(int(diff.imag))==2:\n",
    "            # Move up or down\n",
    "            diff=complex(diff.real,diff.imag//2)\n",
    "        elif abs(int(diff.real))==1 or abs(int(diff.imag))==1:\n",
    "            # Don't need to move tail\n",
    "            diff=0+0j\n",
    "        s[1]+=diff\n",
    "        visited.add(s[1])\n",
    "        \n",
    "    return s, visited"
   ]
  },
  {
   "cell_type": "code",
   "execution_count": 3,
   "id": "d8e633a4",
   "metadata": {
    "code_folding": []
   },
   "outputs": [],
   "source": [
    "with open('test_day9.txt') as input_text:\n",
    "    snake=[0j,0j] # Need the j to instantiate them complex, head is first coordinate, tail second\n",
    "    visited = set([snake[-1]])\n",
    "    for line in input_text:\n",
    "        snake, visited = parse_line(line,snake,visited)\n",
    "    assert len(visited) == 13"
   ]
  },
  {
   "cell_type": "code",
   "execution_count": 4,
   "id": "95597729",
   "metadata": {
    "code_folding": []
   },
   "outputs": [
    {
     "name": "stdout",
     "output_type": "stream",
     "text": [
      "5878\n"
     ]
    }
   ],
   "source": [
    "with open('input_day9.txt') as input_text:\n",
    "    snake=[0j,0j] # Need the j to instantiate them complex, head is first coordinate, tail second\n",
    "    visited = set([snake[-1]])\n",
    "    for line in input_text:\n",
    "        snake, visited = parse_line(line,snake,visited)\n",
    "    print(len(visited))"
   ]
  },
  {
   "cell_type": "markdown",
   "id": "f3492725",
   "metadata": {},
   "source": [
    "## Part 2"
   ]
  },
  {
   "cell_type": "code",
   "execution_count": 5,
   "id": "14113dac",
   "metadata": {},
   "outputs": [],
   "source": [
    "def parse_line_part2(line:str, s: list[complex], visited: set[complex])->(list[complex], set[complex]):\n",
    "    move, num_moves = line.strip('\\n').split(' ')\n",
    "    for i in range(int(num_moves)):\n",
    "        s[0] += directions[move]\n",
    "        for tail in range(1,len(s)):\n",
    "            diff = s[tail-1]-s[tail]\n",
    "            if abs(int(diff.real))==2 and abs(int(diff.imag))==2:\n",
    "                # Move diagonally\n",
    "                diff=complex(diff.real//2,diff.imag//2) \n",
    "            elif abs(int(diff.real))==2:\n",
    "                # Move left or right\n",
    "                diff=complex(diff.real//2,diff.imag)\n",
    "            elif abs(int(diff.imag))==2:\n",
    "                # Move up or down\n",
    "                diff=complex(diff.real,diff.imag//2)\n",
    "            elif abs(int(diff.real))==1 or abs(int(diff.imag))==1:\n",
    "                # Don't need to move tail\n",
    "                diff=0+0j\n",
    "            s[tail]+=diff\n",
    "        visited.add(s[-1])\n",
    "        \n",
    "    return s, visited"
   ]
  },
  {
   "cell_type": "code",
   "execution_count": 6,
   "id": "19a7fe19",
   "metadata": {},
   "outputs": [],
   "source": [
    "with open('test_day9.txt') as input_text:\n",
    "    snake=[0j]*10 # Need the j to instantiate them complex, head is first coordinate, tail second\n",
    "    visited = set([snake[-1]])\n",
    "    for line in input_text:\n",
    "        snake, visited = parse_line_part2(line,snake,visited)\n",
    "    assert len(visited) == 1"
   ]
  },
  {
   "cell_type": "code",
   "execution_count": 7,
   "id": "906639bc",
   "metadata": {},
   "outputs": [],
   "source": [
    "with open('test_day9_part2.txt') as input_text:\n",
    "    snake=[0j]*10 # Need the j to instantiate them complex, head is first coordinate, tail second\n",
    "    visited = set([snake[-1]])\n",
    "    for line in input_text:\n",
    "        snake, visited = parse_line_part2(line,snake,visited)\n",
    "    assert len(visited) == 36"
   ]
  },
  {
   "cell_type": "code",
   "execution_count": 8,
   "id": "b060ab76",
   "metadata": {},
   "outputs": [
    {
     "name": "stdout",
     "output_type": "stream",
     "text": [
      "2405\n"
     ]
    }
   ],
   "source": [
    "with open('input_day9.txt') as input_text:\n",
    "    snake=[0j]*10 # Need the j to instantiate them complex, head is first coordinate, tail second\n",
    "    visited = set([snake[-1]])\n",
    "    for line in input_text:\n",
    "        snake, visited = parse_line_part2(line,snake,visited)\n",
    "    print(len(visited))"
   ]
  },
  {
   "cell_type": "code",
   "execution_count": null,
   "id": "25bb42b1",
   "metadata": {},
   "outputs": [],
   "source": []
  }
 ],
 "metadata": {
  "kernelspec": {
   "display_name": "Python 3 (ipykernel)",
   "language": "python",
   "name": "python3"
  },
  "language_info": {
   "codemirror_mode": {
    "name": "ipython",
    "version": 3
   },
   "file_extension": ".py",
   "mimetype": "text/x-python",
   "name": "python",
   "nbconvert_exporter": "python",
   "pygments_lexer": "ipython3",
   "version": "3.9.10"
  }
 },
 "nbformat": 4,
 "nbformat_minor": 5
}

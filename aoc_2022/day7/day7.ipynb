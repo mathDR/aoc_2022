{
 "cells": [
  {
   "cell_type": "markdown",
   "id": "e597e8b4",
   "metadata": {},
   "source": [
    "# Day 7"
   ]
  },
  {
   "cell_type": "markdown",
   "id": "6b7a2971",
   "metadata": {},
   "source": [
    "## Part 1"
   ]
  },
  {
   "cell_type": "code",
   "execution_count": 1,
   "id": "0d861c5e",
   "metadata": {
    "code_folding": []
   },
   "outputs": [],
   "source": [
    "class Node:\n",
    "    def __init__(self, name:str, parent)->None:\n",
    "        self.parent = parent\n",
    "        self.name = name\n",
    "        self.directories = None\n",
    "        self.files = None\n",
    "        self.total_size = 0\n",
    "        self.total_filesize = 0\n",
    "    \n",
    "    def add_file(self, filename: str, file_size: int)->None:\n",
    "        if self.files is not None:\n",
    "            self.files.append((filename, file_size))\n",
    "        else:\n",
    "            self.files = [(filename, file_size)]\n",
    "    \n",
    "    def add_directory(self, directory)->None:\n",
    "        if self.directories is not None:\n",
    "            self.directories.append(directory)\n",
    "        else:\n",
    "            self.directories = [directory]\n",
    "    \n",
    "    def compute_total_filesize(self)->None:\n",
    "        self.total_filesize = 0\n",
    "        if self.files is not None:\n",
    "            for file in self.files:\n",
    "                self.total_filesize += file[1]\n",
    "    \n",
    "    def compute_total_size(self):\n",
    "        self.compute_total_filesize()\n",
    "        self.total_size = self.total_filesize\n",
    "        if self.directories is not None:\n",
    "            for directory in self.directories:\n",
    "                directory.compute_total_size()\n",
    "                self.total_size += directory.total_size\n",
    "    \n",
    "    def change_dir(self,new_dir_name: str):\n",
    "        return [level for level in self.directories if level.name==new_dir_name][0]"
   ]
  },
  {
   "cell_type": "code",
   "execution_count": 2,
   "id": "d87c49f3",
   "metadata": {
    "code_folding": []
   },
   "outputs": [],
   "source": [
    "def parse_command(line: str, dir_name: str, curr_level: Node)-> (str, Node):\n",
    "    if ' ls' in line:\n",
    "        return dir_name, curr_level\n",
    "    elif ' cd' in line:\n",
    "        new_dir_name = line.strip('\\n').split('$')[1].split(' cd ')[1].strip(' ')\n",
    "        if new_dir_name == '/':\n",
    "            if curr_level is None:\n",
    "                # First time being at root, instantiate hierarchy\n",
    "                new_level = Node('root', None)\n",
    "            return 'root', new_level\n",
    "        elif new_dir_name == '..':\n",
    "            return curr_level.parent.name, curr_level.parent\n",
    "        else:\n",
    "            new_level = curr_level.change_dir(new_dir_name)\n",
    "            return new_dir_name, new_level\n",
    "    else:\n",
    "        raise 'Error in command'"
   ]
  },
  {
   "cell_type": "code",
   "execution_count": 3,
   "id": "891ca69a",
   "metadata": {
    "code_folding": []
   },
   "outputs": [],
   "source": [
    "def parse_object(line: str, dir_name: str, curr_level: Node)-> Node:\n",
    "    if 'dir' in line:\n",
    "        # add this directory to the node\n",
    "        new_dir_name = line.strip('\\n').split('dir')[1].strip(' ')\n",
    "        curr_level.add_directory(Node(new_dir_name, curr_level))\n",
    "    else:\n",
    "        # add this file to the node\n",
    "        file_size = int(line.split(' ')[0])\n",
    "        filename = line.split(' ')[1].split('\\n')[0].strip(' ')\n",
    "        curr_level.add_file(filename, file_size)\n",
    "    return curr_level"
   ]
  },
  {
   "cell_type": "code",
   "execution_count": 4,
   "id": "d0e460b9",
   "metadata": {
    "code_folding": []
   },
   "outputs": [],
   "source": [
    "def parse_line(line: str, dir_name: str, curr_level: Node ) -> (str, Node):\n",
    "    if '$' in line:\n",
    "        new_dir_name, new_level = parse_command(line, dir_name, curr_level)\n",
    "    else:\n",
    "        new_level = parse_object(line, dir_name, curr_level)\n",
    "        new_dir_name = dir_name\n",
    "    return new_dir_name, new_level"
   ]
  },
  {
   "cell_type": "code",
   "execution_count": 5,
   "id": "b92a2e64",
   "metadata": {
    "code_folding": []
   },
   "outputs": [],
   "source": [
    "def sum_sizes(hierarchy: Node)->int:\n",
    "    return_sum = 0\n",
    "    if hierarchy.total_size <= 100000:\n",
    "        return_sum += hierarchy.total_size\n",
    "    if hierarchy.directories is not None:\n",
    "        for child in hierarchy.directories:\n",
    "            return_sum += sum_sizes(child)\n",
    "    return return_sum"
   ]
  },
  {
   "cell_type": "code",
   "execution_count": 6,
   "id": "fd474efe",
   "metadata": {
    "code_folding": []
   },
   "outputs": [],
   "source": [
    "with open('test_day7.txt') as input_text:\n",
    "    dir_name = None\n",
    "    hierarchy = None\n",
    "    for line in input_text:\n",
    "        dir_name, hierarchy = parse_line(line,dir_name,hierarchy)\n",
    "    # Reset to root node\n",
    "    while hierarchy.parent is not None:\n",
    "        hierarchy = hierarchy.parent\n",
    "    hierarchy.compute_total_size()"
   ]
  },
  {
   "cell_type": "code",
   "execution_count": 7,
   "id": "b94d139d",
   "metadata": {},
   "outputs": [],
   "source": [
    "while hierarchy.parent is not None:\n",
    "        hierarchy = hierarchy.parent\n",
    "\n",
    "assert [dirr.name for dirr in hierarchy.directories] == ['a', 'd']\n",
    "assert [file for file in hierarchy.files] == [('b.txt',14848514),('c.dat',8504156)]\n",
    "hierarchy = hierarchy.change_dir('a')\n",
    "assert [dirr.name for dirr in hierarchy.directories] == ['e']\n",
    "assert [file for file in hierarchy.files] == [('f',29116), ('g',2557), ('h.lst',62596)]\n",
    "hierarchy = hierarchy.change_dir('e')\n",
    "assert hierarchy.directories == None\n",
    "assert [file for file in hierarchy.files] == [('i',584)]\n",
    "hierarchy = hierarchy.parent.parent\n",
    "hierarchy = hierarchy.change_dir('d')\n",
    "assert hierarchy.directories == None\n",
    "assert [file for file in hierarchy.files] == [('j',4060174),('d.log',8033020),('d.ext',5626152),('k',7214296)]"
   ]
  },
  {
   "cell_type": "code",
   "execution_count": 8,
   "id": "f5a11871",
   "metadata": {},
   "outputs": [],
   "source": [
    "while hierarchy.parent is not None:\n",
    "        hierarchy = hierarchy.parent\n",
    "\n",
    "assert hierarchy.total_size == 48381165\n",
    "assert sum_sizes(hierarchy) == 584 + 94853\n",
    "hierarchy = hierarchy.change_dir('a')\n",
    "assert hierarchy.total_size == 94853\n",
    "assert sum_sizes(hierarchy) == 584 + 94853\n",
    "hierarchy = hierarchy.change_dir('e')\n",
    "assert hierarchy.total_size == 584\n",
    "assert sum_sizes(hierarchy) == 584\n",
    "hierarchy = hierarchy.parent.parent\n",
    "hierarchy = hierarchy.change_dir('d')\n",
    "assert hierarchy.total_size == 24933642\n",
    "assert sum_sizes(hierarchy) == 0"
   ]
  },
  {
   "cell_type": "code",
   "execution_count": 9,
   "id": "7708b737",
   "metadata": {
    "scrolled": true
   },
   "outputs": [
    {
     "name": "stdout",
     "output_type": "stream",
     "text": [
      "1307902\n"
     ]
    }
   ],
   "source": [
    "with open('input_day7.txt') as input_text:\n",
    "    dir_name = None\n",
    "    hierarchy = None\n",
    "    for line in input_text:\n",
    "        dir_name, hierarchy = parse_line(line,dir_name,hierarchy)\n",
    "    # Reset to root node\n",
    "    while hierarchy.parent is not None:\n",
    "        hierarchy = hierarchy.parent\n",
    "    hierarchy.compute_total_size()\n",
    "    print(sum_sizes(hierarchy))"
   ]
  },
  {
   "cell_type": "markdown",
   "id": "b3deb3b1",
   "metadata": {},
   "source": [
    "## Part 2"
   ]
  },
  {
   "cell_type": "code",
   "execution_count": 10,
   "id": "0ae6e38a",
   "metadata": {},
   "outputs": [],
   "source": [
    "total_disk_space = 70000000"
   ]
  },
  {
   "cell_type": "code",
   "execution_count": 11,
   "id": "f849e305",
   "metadata": {},
   "outputs": [],
   "source": [
    "needed_space = 30000000"
   ]
  },
  {
   "cell_type": "code",
   "execution_count": null,
   "id": "406748c6",
   "metadata": {},
   "outputs": [],
   "source": [
    "# I need total_disk_space - sum_sizes(hierarchy - min_node) <= needed_space"
   ]
  },
  {
   "cell_type": "code",
   "execution_count": 12,
   "id": "d5d09e71",
   "metadata": {},
   "outputs": [],
   "source": [
    "while hierarchy.parent is not None:\n",
    "        hierarchy = hierarchy.parent\n",
    "hierarchy.compute_total_size()"
   ]
  },
  {
   "cell_type": "code",
   "execution_count": 15,
   "id": "f37013e0",
   "metadata": {},
   "outputs": [
    {
     "data": {
      "text/plain": [
       "False"
      ]
     },
     "execution_count": 15,
     "metadata": {},
     "output_type": "execute_result"
    }
   ],
   "source": [
    "(total_disk_space - hierarchy.total_size) >= needed_space"
   ]
  },
  {
   "cell_type": "code",
   "execution_count": 30,
   "id": "f0053039",
   "metadata": {},
   "outputs": [],
   "source": [
    "def compute_sizes(val: Node, z = [])->list:\n",
    "    if val.directories is not None:\n",
    "        for directory in val.directories:\n",
    "            print(directory.name, directory.total_size)\n",
    "            z.append((directory.parent.name + directory.name, directory.total_size))\n",
    "            compute_sizes(directory, z)\n",
    "    else:\n",
    "        print(val.name, val.total_size)\n",
    "        z.append((val.parent.name + val.name, val.total_size))\n",
    "    return z\n",
    "            "
   ]
  },
  {
   "cell_type": "code",
   "execution_count": 31,
   "id": "eb270c7d",
   "metadata": {},
   "outputs": [
    {
     "name": "stdout",
     "output_type": "stream",
     "text": [
      "csmqbhjv 37948890\n",
      "dgj 9896373\n",
      "brwncbh 238441\n",
      "brwncbh 238441\n",
      "dtdzsqps 375884\n",
      "dtdzsqps 375884\n",
      "tvpzh 8268896\n",
      "czdqfr 16806\n",
      "czdqfr 8551\n",
      "czdqfr 8551\n",
      "hrhqhcjg 8255\n",
      "hrhqhcjg 8255\n",
      "fgmz 145921\n",
      "fgmz 145921\n",
      "rjnv 3048790\n",
      "cdqv 294789\n",
      "cdqv 294789\n",
      "czdqfr 1771159\n",
      "fmmblb 1419115\n",
      "cjtb 306568\n",
      "cjtb 306568\n",
      "llg 615499\n",
      "llg 615499\n",
      "rcb 306217\n",
      "lmgrr 306217\n",
      "lmgrr 306217\n",
      "szcrlzmr 3872989\n",
      "mdjrhmhf 2242396\n",
      "clmdlmc 627855\n",
      "clmdlmc 627855\n",
      "fmmblb 254906\n",
      "fmmblb 254906\n",
      "mnm 1037499\n",
      "czdqfr 269467\n",
      "czdqfr 269467\n",
      "rwnqgjmm 507936\n",
      "pgrtzw 32086\n",
      "pgrtzw 32086\n",
      "rns 1148027\n",
      "fwjb 414032\n",
      "jlhqd 196505\n",
      "jlhqd 196505\n",
      "prdd 231855\n",
      "prdd 231855\n",
      "rtrglmt 219787\n",
      "rtrglmt 219787\n",
      "tvpzh 334987\n",
      "swrgwp 334987\n",
      "cqzs 284674\n",
      "cqzs 284674\n",
      "wtcsc 50313\n",
      "wtcsc 50313\n",
      "vbrn 361834\n",
      "fmmblb 204558\n",
      "fmmblb 204558\n",
      "fmmblb 259591\n",
      "bhvpslz 259591\n",
      "jsmrb 259591\n",
      "jsmrb 259591\n",
      "hjwwtw 291890\n",
      "hjwwtw 291890\n",
      "mtmhst 24390891\n",
      "dfqm 11088109\n",
      "czdqfr 85242\n",
      "czdqfr 85242\n",
      "fmmblb 574318\n",
      "fmmblb 574318\n",
      "gngvhs 2897537\n",
      "fmmblb 174392\n",
      "fmmblb 174392\n",
      "jfptn 193871\n",
      "vjm 193871\n",
      "vjm 193871\n",
      "jlqzq 1415771\n",
      "fmmblb 545139\n",
      "ccpvdzg 304195\n",
      "ccpvdzg 304195\n",
      "mdjrhmhf 242269\n",
      "mdjrhmhf 242269\n",
      "nhb 83616\n",
      "nhb 83616\n",
      "wlqjpsh 249472\n",
      "wlqjpsh 249472\n",
      "mdjrhmhf 530182\n",
      "tqmwn 316717\n",
      "tqmwn 316717\n",
      "scmjf 503696\n",
      "fhfg 234806\n",
      "fhfg 234806\n",
      "tvpzh 79625\n",
      "tvpzh 79625\n",
      "ppjdlbp 249976\n",
      "ppjdlbp 249976\n",
      "shs 1634555\n",
      "fmmblb 161417\n",
      "fmmblb 161417\n",
      "rrg 304639\n",
      "rrg 304639\n",
      "srdrb 5646481\n",
      "bgchgtg 3075705\n",
      "hhbmwp 1383999\n",
      "dvzmpfzn 254300\n",
      "dvzmpfzn 254300\n",
      "fspwz 320515\n",
      "fzpfbcvv 272766\n",
      "fzpfbcvv 272766\n",
      "jzrqvds 47749\n",
      "jzrqvds 47749\n",
      "gznwz 77780\n",
      "gznwz 77780\n",
      "rtdwhlsq 1353287\n",
      "cchdchd 441570\n",
      "zzsbq 263814\n",
      "zzsbq 263814\n",
      "lgz 256091\n",
      "lgz 256091\n",
      "zmlm 2076579\n",
      "jnbhfnn 49839\n",
      "jnbhfnn 49839\n",
      "rnmghbht 1510689\n",
      "mfgbbvcc 1147354\n",
      "gmgdfss 1147354\n",
      "mdjrhmhf 299841\n",
      "brwncbh 299841\n",
      "fmmblb 299841\n",
      "ppwp 299841\n",
      "ppwp 299841\n",
      "ndcmqpc 289960\n",
      "ndcmqpc 289960\n",
      "qdh 294005\n",
      "qdh 294005\n",
      "tjhnp 28638\n",
      "vhjtqdg 28638\n",
      "vhjtqdg 28638\n",
      "fmmblb 2392772\n",
      "mdjrhmhf 32945\n",
      "mdjrhmhf 32945\n",
      "mzrzzhpt 1594172\n",
      "gdsv 10562\n",
      "gdsv 10562\n",
      "mdjrhmhf 491087\n",
      "mdjrhmhf 491087\n",
      "wwqmlhgg 337889\n",
      "wwqmlhgg 337889\n",
      "mdjrhmhf 727971\n",
      "mdjrhmhf 70842\n",
      "mdjrhmhf 70842\n",
      "mslwjsp 141951\n",
      "mslwjsp 141951\n",
      "rdzg 312895\n",
      "rdzg 312895\n",
      "tvpzh 918522\n",
      "fjtwlj 46126\n",
      "fjtwlj 46126\n",
      "jnpgqsb 212620\n",
      "rllbvnm 212620\n",
      "rllbvnm 212620\n",
      "wqlf 8772083\n",
      "jswfprpl 7068748\n",
      "fmmblb 201940\n",
      "fmmblb 201940\n",
      "lmwz 3353766\n",
      "brwncbh 174732\n",
      "brwncbh 174732\n",
      "dhff 525079\n",
      "lddw 296685\n",
      "lddw 296685\n",
      "mfwnzprw 6260\n",
      "mfwnzprw 6260\n",
      "tvpzh 1684720\n",
      "gmvswdr 215582\n",
      "gmvswdr 215582\n",
      "hfzdqdz 486742\n",
      "ggqcqcc 4679\n",
      "ggqcqcc 4679\n",
      "hhjwt 448068\n",
      "lbqpgd 177175\n",
      "lbqpgd 177175\n",
      "tdb 270893\n",
      "tdb 270893\n",
      "vrv 236651\n",
      "bqmnhdts 64972\n",
      "bqmnhdts 64972\n",
      "qvj 3513042\n",
      "bfwtb 510644\n",
      "wmbhgcw 310044\n",
      "wmbhgcw 310044\n",
      "bpnppqg 120203\n",
      "bpnppqg 120203\n",
      "gvlqddlb 1926672\n",
      "pglr 145907\n",
      "pglr 145907\n",
      "rbfpbcpd 881283\n",
      "czdqfr 66107\n",
      "czdqfr 66107\n",
      "dcnh 297110\n",
      "dcnh 297110\n",
      "fmmblb 25829\n",
      "fmmblb 25829\n",
      "qwrsrdr 199762\n",
      "qwrsrdr 199762\n",
      "rstg 236706\n",
      "rstg 236706\n",
      "swgfvtf 510930\n",
      "swgfvtf 510930\n",
      "nztbsbq 1492471\n",
      "fhwmhvdn 162082\n",
      "fhwmhvdn 162082\n",
      "mzvq 161712\n",
      "lnjtfgh 161712\n",
      "lnjtfgh 161712\n",
      "tvpzh 601265\n",
      "jgpr 85238\n",
      "jgpr 85238\n",
      "mdjrhmhf 231007\n",
      "mdjrhmhf 231007\n",
      "rnntmvpr 285020\n",
      "rnntmvpr 285020\n",
      "wtllfshw 135281\n",
      "wtllfshw 135281\n",
      "njsccfms 91520\n",
      "zdddqvq 91520\n",
      "zdddqvq 91520\n",
      "wmjsvq 2965803\n",
      "fmmblb 173331\n",
      "fmmblb 173331\n",
      "htmb 7647\n",
      "gtm 7647\n",
      "gtm 7647\n",
      "lmzhpth 1134301\n",
      "tvpzh 259073\n",
      "tvpzh 259073\n",
      "vdqg 600476\n",
      "vdqg 600476\n",
      "zvhmfm 274752\n",
      "zvhmfm 274752\n",
      "mrjq 1508472\n",
      "fqcspsv 129410\n",
      "fjqnf 129410\n",
      "tvpzh 129410\n",
      "lhwdrcwz 129410\n",
      "lhwdrcwz 129410\n",
      "fvvmlbf 596414\n",
      "fvvmlbf 596414\n",
      "czdqfr 992049\n",
      "czdqfr 289585\n",
      "czdqfr 289585\n",
      "mdjrhmhf 137110\n",
      "mdjrhmhf 137110\n",
      "tvpzh 258325\n",
      "tvpzh 258325\n",
      "fpfwfzrt 534049\n",
      "fpfwfzrt 534049\n",
      "sqphfslv 6773489\n",
      "pjtzm 6309025\n",
      "brwncbh 1283566\n",
      "fbzvn 726122\n",
      "fqg 111165\n",
      "fqg 111165\n",
      "npzf 190792\n",
      "npzf 190792\n",
      "tvpzh 3276218\n",
      "blgjrjt 674598\n",
      "blgjrjt 674598\n",
      "dlzjtlbt 347348\n",
      "dlzjtlbt 347348\n",
      "jnwm 58963\n",
      "jnwm 58963\n",
      "qprbng 1403080\n",
      "tvpzh 220904\n",
      "tvpzh 220904\n",
      "tvpzh 178934\n",
      "fmmblb 178934\n",
      "fmmblb 178934\n",
      "zstcqndd 1417279\n",
      "brwncbh 114145\n",
      "brwncbh 114145\n",
      "jwpbtpr 985439\n",
      "czdqfr 625172\n",
      "mdjrhmhf 625172\n",
      "svhh 120875\n",
      "svhh 120875\n",
      "zcsnqjj 279979\n",
      "zcsnqjj 279979\n",
      "fsqvbv 131513\n",
      "tvpzh 17235\n",
      "tvpzh 17235\n",
      "wbssjjd 11336\n",
      "mdjrhmhf 11336\n",
      "mdjrhmhf 11336\n",
      "spnr 298067\n",
      "spnr 298067\n"
     ]
    }
   ],
   "source": [
    "while hierarchy.parent is not None:\n",
    "        hierarchy = hierarchy.parent\n",
    "z = compute_sizes(hierarchy)"
   ]
  },
  {
   "cell_type": "code",
   "execution_count": 33,
   "id": "227c5f5c",
   "metadata": {},
   "outputs": [
    {
     "data": {
      "text/plain": [
       "292"
      ]
     },
     "execution_count": 33,
     "metadata": {},
     "output_type": "execute_result"
    }
   ],
   "source": [
    "len(z)"
   ]
  },
  {
   "cell_type": "code",
   "execution_count": 39,
   "id": "8f6960cc",
   "metadata": {},
   "outputs": [],
   "source": [
    "min_size = total_disk_space\n",
    "for y in list(set(z)):\n",
    "    if (total_disk_space - (hierarchy.total_size-y[1])) >= needed_space:\n",
    "        if y[1] < min_size:\n",
    "            min_size = y[1]"
   ]
  },
  {
   "cell_type": "code",
   "execution_count": 40,
   "id": "40a7bc40",
   "metadata": {},
   "outputs": [
    {
     "data": {
      "text/plain": [
       "7068748"
      ]
     },
     "execution_count": 40,
     "metadata": {},
     "output_type": "execute_result"
    }
   ],
   "source": [
    "min_size"
   ]
  },
  {
   "cell_type": "code",
   "execution_count": null,
   "id": "21ecf83b",
   "metadata": {},
   "outputs": [],
   "source": []
  }
 ],
 "metadata": {
  "kernelspec": {
   "display_name": "Python 3 (ipykernel)",
   "language": "python",
   "name": "python3"
  },
  "language_info": {
   "codemirror_mode": {
    "name": "ipython",
    "version": 3
   },
   "file_extension": ".py",
   "mimetype": "text/x-python",
   "name": "python",
   "nbconvert_exporter": "python",
   "pygments_lexer": "ipython3",
   "version": "3.9.10"
  }
 },
 "nbformat": 4,
 "nbformat_minor": 5
}

{
 "cells": [
  {
   "cell_type": "code",
   "execution_count": 2,
   "id": "c4af479c",
   "metadata": {},
   "outputs": [],
   "source": [
    "# %load ~/dev/marthaler/header.py\n",
    "%matplotlib inline\n",
    "%config InlineBackend.figure_format = 'retina'\n",
    "\n",
    "%load_ext autoreload\n",
    "%autoreload 2\n",
    "\n",
    "import matplotlib.pyplot as plt\n",
    "import seaborn as sns\n",
    "import numpy as np\n",
    "import pandas as pd\n",
    "from r2d2 import for_sql_in\n",
    "from r2d2.cache import DataFrameCache\n",
    "query = DataFrameCache().query\n",
    "\n",
    "import warnings\n",
    "\n",
    "plt.style.use(\"ggplot\")\n",
    "warnings.filterwarnings('ignore')\n",
    "\n",
    "from pandas.plotting import register_matplotlib_converters\n",
    "register_matplotlib_converters()\n",
    "\n",
    "plt.rc('figure', figsize=(16, 10))\n",
    "plt.rc('font', size=14)\n",
    "\n",
    "pd.set_option('display.max_rows', 500)\n"
   ]
  },
  {
   "cell_type": "code",
   "execution_count": 19,
   "id": "6defe78a",
   "metadata": {
    "code_folding": [
     0
    ]
   },
   "outputs": [],
   "source": [
    "def compute_round(val: list)->int:\n",
    "    x1, x2 = val\n",
    "    if x1=='A':\n",
    "        p1 = 'rock'\n",
    "    elif x1=='B':\n",
    "        p1 = 'paper'\n",
    "    elif x1 == 'C':\n",
    "        p1 = 'scissors'\n",
    "    else:\n",
    "        raise 'incorrect value for player 1'\n",
    "    if x2=='X':\n",
    "        p2 = 'rock'\n",
    "        score = 1\n",
    "    elif x2=='Y':\n",
    "        p2 = 'paper'\n",
    "        score = 2\n",
    "    elif x2 == 'Z':\n",
    "        p2 = 'scissors'\n",
    "        score = 3\n",
    "    else:\n",
    "        raise 'incorrect value for player 2'\n",
    "    if p1==p2:\n",
    "        score += 3\n",
    "    elif p1 == 'rock':\n",
    "        if p2 == 'paper':\n",
    "            # Player 2 wins\n",
    "            score += 6\n",
    "        elif p2 == 'scissors':\n",
    "            # Player 1 wins\n",
    "            score += 0\n",
    "    elif p1 == 'paper':\n",
    "        if p2 == 'scissors':\n",
    "            # Player 2 wins\n",
    "            score += 6\n",
    "        elif p2 == 'rock':\n",
    "            # Player 1 wins\n",
    "            score += 0\n",
    "    elif p1 == 'scissors':\n",
    "        if p2 == 'rock':\n",
    "            # Player 2 wins\n",
    "            score += 6\n",
    "        elif p2 == 'paper':\n",
    "            # Player 1 wins\n",
    "            score += 0\n",
    "    else:\n",
    "        raise 'error in assignment to player 1'\n",
    "    return score"
   ]
  },
  {
   "cell_type": "code",
   "execution_count": 21,
   "id": "4963331d",
   "metadata": {},
   "outputs": [],
   "source": [
    "assert compute_round(['A','Y']) == 8\n",
    "assert compute_round(['B','X']) == 1\n",
    "assert compute_round(['C','Z']) == 6"
   ]
  },
  {
   "cell_type": "code",
   "execution_count": 23,
   "id": "cb1748f6",
   "metadata": {},
   "outputs": [],
   "source": [
    "with open('test_day2.txt') as input_text:\n",
    "    total_score = 0\n",
    "    for line in input_text:\n",
    "        z = line.split('\\n')[0].split(' ')\n",
    "        total_score += compute_round(z)\n",
    "    assert total_score == 15"
   ]
  },
  {
   "cell_type": "code",
   "execution_count": 24,
   "id": "78a2b994",
   "metadata": {},
   "outputs": [
    {
     "name": "stdout",
     "output_type": "stream",
     "text": [
      "15691\n"
     ]
    }
   ],
   "source": [
    "with open('input_day2.txt') as input_text:\n",
    "    total_score = 0\n",
    "    for line in input_text:\n",
    "        z = line.split('\\n')[0].split(' ')\n",
    "        total_score += compute_round(z)\n",
    "print(total_score)"
   ]
  },
  {
   "cell_type": "markdown",
   "id": "91eaabc5",
   "metadata": {},
   "source": [
    "### Part 2"
   ]
  },
  {
   "cell_type": "code",
   "execution_count": 25,
   "id": "58d84a11",
   "metadata": {
    "code_folding": [
     0
    ]
   },
   "outputs": [],
   "source": [
    "def compute_round_2(val: list)->int:\n",
    "    x1, x2 = val\n",
    "    if x1=='A':\n",
    "        p1 = 'rock'\n",
    "    elif x1=='B':\n",
    "        p1 = 'paper'\n",
    "    elif x1 == 'C':\n",
    "        p1 = 'scissors'\n",
    "    else:\n",
    "        raise 'incorrect value for player 1'\n",
    "    if x2=='X':\n",
    "        res = 'lose'\n",
    "    elif x2=='Y':\n",
    "        res = 'draw'\n",
    "    elif x2 == 'Z':\n",
    "        res = 'win'\n",
    "    else:\n",
    "        raise 'incorrect value for player 2'\n",
    "    \n",
    "    rock = 1\n",
    "    paper = 2\n",
    "    scissors = 3\n",
    "\n",
    "    lose = 0\n",
    "    draw = 3\n",
    "    win = 6\n",
    "        \n",
    "    if p1 == 'rock':\n",
    "        if res == 'lose':\n",
    "            # Player 2 plays scissors\n",
    "            score = scissors + lose\n",
    "        elif res == 'draw':\n",
    "            # Player 2 plays rock\n",
    "            score = rock + draw\n",
    "        elif res == 'win':\n",
    "            # Player 2 plays paper\n",
    "            score = paper + win\n",
    "    elif p1 == 'paper':\n",
    "        if res == 'lose':\n",
    "            # Player 2 plays rock\n",
    "            score = rock + lose\n",
    "        elif res == 'draw':\n",
    "            # Player 2 plays paper\n",
    "            score = paper + draw\n",
    "        elif res == 'win':\n",
    "            # Player 2 plays scissors\n",
    "            score = scissors + win\n",
    "    elif p1 == 'scissors':\n",
    "        if res == 'lose':\n",
    "            # Player 2 plays paper\n",
    "            score = paper + lose\n",
    "        elif res == 'draw':\n",
    "            # Player 2 plays scissors\n",
    "            score = scissors + draw\n",
    "        elif res == 'win':\n",
    "            # Player 2 plays rock\n",
    "            score = rock + win\n",
    "    else:\n",
    "        raise 'error in assignment to player 1'\n",
    "    return score"
   ]
  },
  {
   "cell_type": "code",
   "execution_count": 27,
   "id": "34d037a1",
   "metadata": {},
   "outputs": [],
   "source": [
    "assert compute_round_2(['A','Y']) == 4\n",
    "assert compute_round_2(['B','X']) == 1\n",
    "assert compute_round_2(['C','Z']) == 7"
   ]
  },
  {
   "cell_type": "code",
   "execution_count": 28,
   "id": "6d2fb099",
   "metadata": {},
   "outputs": [],
   "source": [
    "with open('test_day2.txt') as input_text:\n",
    "    total_score = 0\n",
    "    for line in input_text:\n",
    "        z = line.split('\\n')[0].split(' ')\n",
    "        total_score += compute_round_2(z)\n",
    "    assert total_score == 12"
   ]
  },
  {
   "cell_type": "code",
   "execution_count": 29,
   "id": "5ca4206c",
   "metadata": {},
   "outputs": [
    {
     "name": "stdout",
     "output_type": "stream",
     "text": [
      "12989\n"
     ]
    }
   ],
   "source": [
    "with open('input_day2.txt') as input_text:\n",
    "    total_score = 0\n",
    "    for line in input_text:\n",
    "        z = line.split('\\n')[0].split(' ')\n",
    "        total_score += compute_round_2(z)\n",
    "print(total_score)"
   ]
  },
  {
   "cell_type": "code",
   "execution_count": null,
   "id": "b05a71f7",
   "metadata": {},
   "outputs": [],
   "source": []
  }
 ],
 "metadata": {
  "kernelspec": {
   "display_name": "Python 3 (ipykernel)",
   "language": "python",
   "name": "python3"
  },
  "language_info": {
   "codemirror_mode": {
    "name": "ipython",
    "version": 3
   },
   "file_extension": ".py",
   "mimetype": "text/x-python",
   "name": "python",
   "nbconvert_exporter": "python",
   "pygments_lexer": "ipython3",
   "version": "3.9.10"
  }
 },
 "nbformat": 4,
 "nbformat_minor": 5
}

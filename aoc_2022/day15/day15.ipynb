{
 "cells": [
  {
   "cell_type": "markdown",
   "id": "9aadd583",
   "metadata": {},
   "source": [
    "# Day 15"
   ]
  },
  {
   "cell_type": "markdown",
   "id": "aca7050d",
   "metadata": {},
   "source": [
    "## Part 1"
   ]
  },
  {
   "cell_type": "code",
   "execution_count": 51,
   "id": "8bd1c19a",
   "metadata": {},
   "outputs": [],
   "source": [
    "def manhattan_distance(v1, v2):\n",
    "    return int(abs(v1.real-v2.real) + abs(v1.imag-v2.imag))"
   ]
  },
  {
   "cell_type": "code",
   "execution_count": 52,
   "id": "cdf77bba",
   "metadata": {
    "code_folding": []
   },
   "outputs": [],
   "source": [
    "def parse_line(line:str)->(complex,complex):\n",
    "    '''\n",
    "    Returns the locations for the Sensor and beacon as complex numbers\n",
    "    \n",
    "    '''\n",
    "    s = line.split(':')[0].split('x=')[1]\n",
    "    sx = int(s.split(',')[0])\n",
    "    sy = int(s.split('y=')[1])\n",
    "    b = line.split(':')[1].split('x=')[1]\n",
    "    bx = int(b.split(',')[0])\n",
    "    by = int(b.split('y=')[1].strip('\\n'))\n",
    "    return complex(sx,sy), complex(bx,by)"
   ]
  },
  {
   "cell_type": "markdown",
   "id": "f8425082",
   "metadata": {},
   "source": [
    "Just for kicks, let's find all the points that are covered by the current sensors"
   ]
  },
  {
   "cell_type": "code",
   "execution_count": 53,
   "id": "43868465",
   "metadata": {},
   "outputs": [],
   "source": [
    "def get_closest_point_and_distance(s:complex, row:int)->(complex,int):\n",
    "    return complex(s.real,row), manhattan_distance(s,complex(s.real,row))"
   ]
  },
  {
   "cell_type": "code",
   "execution_count": 54,
   "id": "93d0b360",
   "metadata": {},
   "outputs": [],
   "source": [
    "def move_over_row(s:complex, cd:int, d:int)->list[complex]:\n",
    "    ret_points = []\n",
    "    this_distance = cd\n",
    "    for i in range(1,d-cd+1):\n",
    "        ret_points.append(complex(s.real-i,s.imag))\n",
    "        ret_points.append(complex(s.real+i,s.imag))\n",
    "    return ret_points"
   ]
  },
  {
   "cell_type": "code",
   "execution_count": 55,
   "id": "d4140a49",
   "metadata": {},
   "outputs": [],
   "source": [
    "def get_points(s:complex, row:int, dist:int)->list[complex]:\n",
    "    closest_point, closest_distance = get_closest_point_and_distance(s,row)\n",
    "    if closest_distance > dist:\n",
    "        return []\n",
    "    ret_points = [closest_point]\n",
    "    ret_points.extend(move_over_row(closest_point,closest_distance,dist))\n",
    "    return ret_points"
   ]
  },
  {
   "cell_type": "code",
   "execution_count": 56,
   "id": "f4b2a5ae",
   "metadata": {},
   "outputs": [],
   "source": [
    "def get_answer_part_1(sensors:list[complex], beacons:list[complex], dists:list[int], row:int)->int:\n",
    "    all_points = []\n",
    "    count = 0\n",
    "    for s,d in zip(sensors,dists):\n",
    "        points = get_points(s,row,d)\n",
    "        if beacons[count] in points: points.remove(beacons[count])\n",
    "        all_points = list(set(all_points + points))\n",
    "        count += 1\n",
    "    return len(all_points)"
   ]
  },
  {
   "cell_type": "code",
   "execution_count": 57,
   "id": "d8e633a4",
   "metadata": {},
   "outputs": [],
   "source": [
    "with open('test_day15.txt') as input_text:\n",
    "    sensors = []\n",
    "    beacons = []\n",
    "    dists = []\n",
    "    for line in input_text:\n",
    "        s,b = parse_line(line)\n",
    "        sensors.append(s)\n",
    "        beacons.append(b)\n",
    "        dists.append(manhattan_distance(s,b))\n",
    "    assert get_answer_part_1(sensors,beacons,dists,10)==26"
   ]
  },
  {
   "cell_type": "code",
   "execution_count": 58,
   "id": "6e01da82",
   "metadata": {},
   "outputs": [],
   "source": [
    "with open('input_day15.txt') as input_text:\n",
    "    sensors = []\n",
    "    beacons = []\n",
    "    dists = []\n",
    "    for line in input_text:\n",
    "        s,b = parse_line(line)\n",
    "        sensors.append(s)\n",
    "        beacons.append(b)\n",
    "        dists.append(manhattan_distance(s,b))\n",
    "    get_answer_part_1(sensors,beacons,dists,2000000)"
   ]
  },
  {
   "cell_type": "markdown",
   "id": "f3492725",
   "metadata": {},
   "source": [
    "## Part 2"
   ]
  },
  {
   "cell_type": "code",
   "execution_count": 59,
   "id": "493bbd80",
   "metadata": {},
   "outputs": [],
   "source": [
    "def insert(r:list[int], recs:list[list[int]])->list[list[int]]:\n",
    "    left = recs[0][0]\n",
    "    index = 0\n",
    "    flag = False\n",
    "    while r[0] > left:\n",
    "        index += 1\n",
    "        try:\n",
    "            left = recs[index][0]\n",
    "        except IndexError:\n",
    "            flag = True\n",
    "            break\n",
    "    if flag:\n",
    "        recs.append(r)\n",
    "    else:\n",
    "        recs.insert(index,r)\n",
    "    return recs"
   ]
  },
  {
   "cell_type": "code",
   "execution_count": 60,
   "id": "33e6dd60",
   "metadata": {},
   "outputs": [],
   "source": [
    "def merge_intervals(ranges: list[tuple[int, int]]):\n",
    "    index = 0\n",
    "    for i in range(1, len(ranges)):\n",
    "        if ranges[index][1] >= ranges[i][0]:\n",
    "            ranges[index][1] = max(ranges[index][1], ranges[i][1])\n",
    "        else:\n",
    "            index = index + 1\n",
    "            ranges[index] = ranges[i]\n",
    "    return ranges[0 : index + 1]"
   ]
  },
  {
   "cell_type": "code",
   "execution_count": 61,
   "id": "16152108",
   "metadata": {},
   "outputs": [],
   "source": [
    "def compute_unique_point(sensors:list[list[complex]],dists:list[int], left:int,right:int)->complex:\n",
    "    for row in range(left,right):\n",
    "        recs = []\n",
    "        for s,d in zip(sensors,dists):\n",
    "            cp, cd = get_closest_point_and_distance(s, row)\n",
    "            if cd <= d:\n",
    "                rec = [max(left,cp.real-(d-cd)),min(cp.real+(d-cd),right)]\n",
    "                # insert this rec into the current recs list to keep it sorted on the left index\n",
    "                if recs != []:\n",
    "                    recs = insert(rec,recs)\n",
    "                else:\n",
    "                    recs.append(rec)\n",
    "        val = merge_intervals(recs)\n",
    "        if len(val) > 1:\n",
    "            # This is the row where the unique location exists\n",
    "            return(complex(int(val[1][0] + val[0][1])//2, row))\n",
    "    raise 'This should never be here'"
   ]
  },
  {
   "cell_type": "code",
   "execution_count": 62,
   "id": "34a83ecc",
   "metadata": {},
   "outputs": [],
   "source": [
    "with open('test_day15.txt') as input_text:\n",
    "    sensors = []\n",
    "    beacons = []\n",
    "    dists = []\n",
    "    for line in input_text:\n",
    "        s,b = parse_line(line)\n",
    "        sensors.append(s)\n",
    "        beacons.append(b)\n",
    "        dists.append(manhattan_distance(s,b))\n",
    "    p = compute_unique_point(sensors,dists,0,21)\n",
    "    assert int(p.real*4000000 + p.imag) == 56000011"
   ]
  },
  {
   "cell_type": "code",
   "execution_count": 63,
   "id": "f1d8eed0",
   "metadata": {},
   "outputs": [
    {
     "name": "stdout",
     "output_type": "stream",
     "text": [
      "13071206703981\n"
     ]
    }
   ],
   "source": [
    "with open('input_day15.txt') as input_text:\n",
    "    sensors = []\n",
    "    beacons = []\n",
    "    dists = []\n",
    "    for line in input_text:\n",
    "        s,b = parse_line(line)\n",
    "        sensors.append(s)\n",
    "        beacons.append(b)\n",
    "        dists.append(manhattan_distance(s,b))\n",
    "    p = compute_unique_point(sensors,dists,0,4000000)\n",
    "    print(int(p.real*4000000 + p.imag))"
   ]
  },
  {
   "cell_type": "code",
   "execution_count": null,
   "id": "8a957258",
   "metadata": {},
   "outputs": [],
   "source": []
  }
 ],
 "metadata": {
  "kernelspec": {
   "display_name": "Python 3 (ipykernel)",
   "language": "python",
   "name": "python3"
  },
  "language_info": {
   "codemirror_mode": {
    "name": "ipython",
    "version": 3
   },
   "file_extension": ".py",
   "mimetype": "text/x-python",
   "name": "python",
   "nbconvert_exporter": "python",
   "pygments_lexer": "ipython3",
   "version": "3.9.10"
  }
 },
 "nbformat": 4,
 "nbformat_minor": 5
}

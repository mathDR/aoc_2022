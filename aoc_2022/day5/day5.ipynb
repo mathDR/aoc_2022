{
 "cells": [
  {
   "cell_type": "markdown",
   "id": "aa0aa431",
   "metadata": {},
   "source": [
    "# Day 5"
   ]
  },
  {
   "cell_type": "markdown",
   "id": "beaf2d5f",
   "metadata": {},
   "source": [
    "## Part 1"
   ]
  },
  {
   "cell_type": "code",
   "execution_count": 21,
   "id": "e2f5fd3c",
   "metadata": {},
   "outputs": [],
   "source": [
    "def parse_state_line(line: str):\n",
    "    if line == '\\n':\n",
    "        return None\n",
    "    num_stacks = int(len(line)/4)\n",
    "    state = []\n",
    "    for i in range(num_stacks):\n",
    "        state.append(line[i*4:(i+1)*4].strip('\\n').strip(' '))\n",
    "    return state"
   ]
  },
  {
   "cell_type": "code",
   "execution_count": 22,
   "id": "30393e18",
   "metadata": {},
   "outputs": [],
   "source": [
    "test_line = '    [D]    \\n'\n",
    "assert parse_state_line(test_line)==['','[D]','']\n",
    "test_line = '\\n'\n",
    "assert parse_state_line(test_line)==None"
   ]
  },
  {
   "cell_type": "code",
   "execution_count": 23,
   "id": "bdf7c5b5",
   "metadata": {},
   "outputs": [],
   "source": [
    "def parse_move_line(line: str)->list[int]:\n",
    "    num_to_move = int(line.strip('\\n').split('move')[1].split('from')[0])\n",
    "    stack_from = int(line.strip('\\n').split('move')[1].split('from')[1].split('to')[0])-1\n",
    "    stack_to = int(line.strip('\\n').split('move')[1].split('from')[1].split('to')[1])-1\n",
    "    return [num_to_move,stack_from,stack_to]"
   ]
  },
  {
   "cell_type": "code",
   "execution_count": 24,
   "id": "7361d230",
   "metadata": {},
   "outputs": [],
   "source": [
    "test_line = 'move 1 from 2 to 1\\n'\n",
    "assert parse_move_line(test_line)==[1,1,0]"
   ]
  },
  {
   "cell_type": "code",
   "execution_count": 25,
   "id": "7762c7a4",
   "metadata": {},
   "outputs": [],
   "source": [
    "def pivot_state(old_state:list[list[str]])->list[list[str]]:\n",
    "    num_stacks = len(old_state[0])\n",
    "    stacks = []\n",
    "    for i in range(num_stacks):\n",
    "        v = [s[i] for s in old_state[:-1] if s[i] != '']\n",
    "        v.reverse()\n",
    "        stacks.append(v)\n",
    "    return stacks"
   ]
  },
  {
   "cell_type": "code",
   "execution_count": 26,
   "id": "41bce9c9",
   "metadata": {},
   "outputs": [],
   "source": [
    "test_state = [['', '[D]', ''], ['[N]', '[C]', ''], ['[Z]', '[M]', '[P]'], ['1', '2', '3']]\n",
    "test_stacks = pivot_state(test_state)\n",
    "assert test_stacks == [['[Z]', '[N]'], ['[M]', '[C]', '[D]'], ['[P]']]"
   ]
  },
  {
   "cell_type": "code",
   "execution_count": 27,
   "id": "d53ec761",
   "metadata": {},
   "outputs": [],
   "source": [
    "def move_objects(num_to_move: int, from_stack: list, to_stack: list) -> None:\n",
    "    for n in range(num_to_move):\n",
    "        to_stack.append(from_stack.pop())"
   ]
  },
  {
   "cell_type": "code",
   "execution_count": 28,
   "id": "8188883a",
   "metadata": {},
   "outputs": [],
   "source": [
    "test_stacks == [['[Z]', '[N]'], ['[M]', '[C]', '[D]'], ['[P]']]\n",
    "move_objects(1,test_stacks[1],test_stacks[0])\n",
    "assert test_stacks==[['[Z]', '[N]', '[D]'], ['[M]', '[C]'], ['[P]']]"
   ]
  },
  {
   "cell_type": "code",
   "execution_count": 31,
   "id": "d8e633a4",
   "metadata": {},
   "outputs": [],
   "source": [
    "with open('test_day5.txt') as input_text:\n",
    "    state = []\n",
    "    moves = []\n",
    "    for line in input_text:\n",
    "        if 'move' in line:\n",
    "            moves.append(parse_move_line(line))\n",
    "        else:\n",
    "            val = parse_state_line(line)\n",
    "            if val is not None:\n",
    "                state.append(val)\n",
    "    stacks = pivot_state(state)\n",
    "    for move in moves:\n",
    "        move_objects(move[0], stacks[move[1]], stacks[move[2]])\n",
    "    tops = ''.join([s[-1].split('[')[1].split(']')[0] for s in stacks])\n",
    "    assert tops == 'CMZ'"
   ]
  },
  {
   "cell_type": "code",
   "execution_count": 32,
   "id": "0de5f60b",
   "metadata": {},
   "outputs": [
    {
     "name": "stdout",
     "output_type": "stream",
     "text": [
      "FWNSHLDNZ\n"
     ]
    }
   ],
   "source": [
    "with open('input_day5.txt') as input_text:\n",
    "    state = []\n",
    "    moves = []\n",
    "    for line in input_text:\n",
    "        if 'move' in line:\n",
    "            moves.append(parse_move_line(line))\n",
    "        else:\n",
    "            val = parse_state_line(line)\n",
    "            if val is not None:\n",
    "                state.append(val)\n",
    "    stacks = pivot_state(state)\n",
    "    for move in moves:\n",
    "        move_objects(move[0], stacks[move[1]], stacks[move[2]])\n",
    "    tops = ''.join([s[-1].split('[')[1].split(']')[0] for s in stacks])\n",
    "    print(tops)"
   ]
  },
  {
   "cell_type": "markdown",
   "id": "f3492725",
   "metadata": {},
   "source": [
    "## Part 2"
   ]
  },
  {
   "cell_type": "code",
   "execution_count": 108,
   "id": "27e7a734",
   "metadata": {},
   "outputs": [],
   "source": [
    "def move_objects_part2(\n",
    "    move: list[int], old_stacks: list[list[str]]\n",
    ") -> None:\n",
    "    num_to_move, from_stack_index, to_stack_index = move\n",
    "    old_stacks[to_stack_index].extend(old_stacks[from_stack_index][-num_to_move:])\n",
    "    for i in range(num_to_move):\n",
    "        old_stacks[from_stack_index].pop()"
   ]
  },
  {
   "cell_type": "code",
   "execution_count": 120,
   "id": "a6480735",
   "metadata": {},
   "outputs": [],
   "source": [
    "with open('test_day5.txt') as input_text:\n",
    "    state = []\n",
    "    moves = []\n",
    "    for line in input_text:\n",
    "        if 'move' in line:\n",
    "            moves.append(parse_move_line(line))\n",
    "        else:\n",
    "            val = parse_state_line(line)\n",
    "            if val is not None:\n",
    "                state.append(val)\n",
    "    stacks = pivot_state(state)\n",
    "    for move in moves:\n",
    "        move_objects_part2(move, stacks)\n",
    "    tops = ''.join([s[-1].split('[')[1].split(']')[0] for s in stacks])\n",
    "    assert tops=='MCD'"
   ]
  },
  {
   "cell_type": "code",
   "execution_count": 121,
   "id": "5992a0ab",
   "metadata": {},
   "outputs": [
    {
     "name": "stdout",
     "output_type": "stream",
     "text": [
      "RNRGDNFQG\n"
     ]
    }
   ],
   "source": [
    "with open('input_day5.txt') as input_text:\n",
    "    state = []\n",
    "    moves = []\n",
    "    for line in input_text:\n",
    "        if 'move' in line:\n",
    "            moves.append(parse_move_line(line))\n",
    "        else:\n",
    "            val = parse_state_line(line)\n",
    "            if val is not None:\n",
    "                state.append(val)\n",
    "    stacks = pivot_state(state)\n",
    "    for move in moves:\n",
    "        move_objects_part2(move, stacks)\n",
    "    tops = ''.join([s[-1].split('[')[1].split(']')[0] for s in stacks])\n",
    "    print(tops)"
   ]
  },
  {
   "cell_type": "code",
   "execution_count": null,
   "id": "1bc5dc42",
   "metadata": {},
   "outputs": [],
   "source": []
  }
 ],
 "metadata": {
  "kernelspec": {
   "display_name": "Python 3 (ipykernel)",
   "language": "python",
   "name": "python3"
  },
  "language_info": {
   "codemirror_mode": {
    "name": "ipython",
    "version": 3
   },
   "file_extension": ".py",
   "mimetype": "text/x-python",
   "name": "python",
   "nbconvert_exporter": "python",
   "pygments_lexer": "ipython3",
   "version": "3.9.10"
  }
 },
 "nbformat": 4,
 "nbformat_minor": 5
}
